{
 "cells": [
  {
   "cell_type": "code",
   "execution_count": 1,
   "metadata": {},
   "outputs": [],
   "source": [
    "from autofeat.dataset import *\n",
    "\n",
    "source_dataset = KaggleDataset(id=\"mahmoudemadabdallah/hr-analytics-employee-attrition-and-performance\")"
   ]
  },
  {
   "cell_type": "code",
   "execution_count": 2,
   "metadata": {},
   "outputs": [],
   "source": [
    "from autofeat.transform import *\n",
    "\n",
    "transform = (\n",
    "    Cast()\n",
    "    .then(Encode())\n",
    "    .then(Aggregate(by={\"EmployeeID\"}))\n",
    "    .then(Identity(), Join(on={\"EmployeeID\"}))\n",
    "    .then(Identity(), Combine())\n",
    ")"
   ]
  },
  {
   "cell_type": "code",
   "execution_count": 3,
   "metadata": {},
   "outputs": [],
   "source": [
    "derived_dataset = source_dataset.derive(transform)"
   ]
  },
  {
   "cell_type": "code",
   "execution_count": 4,
   "metadata": {},
   "outputs": [],
   "source": [
    "features = derived_dataset.features(\n",
    "    Filter(eq={\"EmployeeID\": \"51A4-EA6E\"}),\n",
    "    Filter(eq={\"EmployeeID\": \"A4A4-F49C\"}),\n",
    ")"
   ]
  },
  {
   "cell_type": "code",
   "execution_count": 5,
   "metadata": {},
   "outputs": [
    {
     "data": {
      "text/html": [
       "<div><style>\n",
       ".dataframe > thead > tr,\n",
       ".dataframe > tbody > tr {\n",
       "  text-align: right;\n",
       "  white-space: pre-wrap;\n",
       "}\n",
       "</style>\n",
       "<small>shape: (2, 22_321)</small><table border=\"1\" class=\"dataframe\"><thead><tr><th>count(*) from RatingLevel.csv</th><th>max(RatingID) from RatingLevel.csv</th><th>mean(RatingID) from RatingLevel.csv</th><th>median(RatingID) from RatingLevel.csv</th><th>min(RatingID) from RatingLevel.csv</th><th>std(RatingID) from RatingLevel.csv</th><th>sum(RatingID) from RatingLevel.csv</th><th>var(RatingID) from RatingLevel.csv</th><th>count(*) from PerformanceRating.csv</th><th>max(ManagerRating) from PerformanceRating.csv</th><th>mean(ManagerRating) from PerformanceRating.csv</th><th>median(ManagerRating) from PerformanceRating.csv</th><th>min(ManagerRating) from PerformanceRating.csv</th><th>std(ManagerRating) from PerformanceRating.csv</th><th>sum(ManagerRating) from PerformanceRating.csv</th><th>var(ManagerRating) from PerformanceRating.csv</th><th>max(JobSatisfaction) from PerformanceRating.csv</th><th>mean(JobSatisfaction) from PerformanceRating.csv</th><th>median(JobSatisfaction) from PerformanceRating.csv</th><th>min(JobSatisfaction) from PerformanceRating.csv</th><th>std(JobSatisfaction) from PerformanceRating.csv</th><th>sum(JobSatisfaction) from PerformanceRating.csv</th><th>var(JobSatisfaction) from PerformanceRating.csv</th><th>max(TrainingOpportunitiesWithinYear) from PerformanceRating.csv</th><th>mean(TrainingOpportunitiesWithinYear) from PerformanceRating.csv</th><th>median(TrainingOpportunitiesWithinYear) from PerformanceRating.csv</th><th>min(TrainingOpportunitiesWithinYear) from PerformanceRating.csv</th><th>std(TrainingOpportunitiesWithinYear) from PerformanceRating.csv</th><th>sum(TrainingOpportunitiesWithinYear) from PerformanceRating.csv</th><th>var(TrainingOpportunitiesWithinYear) from PerformanceRating.csv</th><th>max(TrainingOpportunitiesTaken) from PerformanceRating.csv</th><th>mean(TrainingOpportunitiesTaken) from PerformanceRating.csv</th><th>median(TrainingOpportunitiesTaken) from PerformanceRating.csv</th><th>min(TrainingOpportunitiesTaken) from PerformanceRating.csv</th><th>std(TrainingOpportunitiesTaken) from PerformanceRating.csv</th><th>sum(TrainingOpportunitiesTaken) from PerformanceRating.csv</th><th>var(TrainingOpportunitiesTaken) from PerformanceRating.csv</th><th>&hellip;</th><th>max(YearsWithCurrManager) / count(*) from Employee.csv</th><th>min(YearsInMostRecentRole) + std(YearsInMostRecentRole) from Employee.csv</th><th>min(YearsInMostRecentRole) - std(YearsInMostRecentRole) from Employee.csv</th><th>std(YearsInMostRecentRole) - min(YearsInMostRecentRole) from Employee.csv</th><th>min(YearsInMostRecentRole) * std(YearsInMostRecentRole) from Employee.csv</th><th>min(YearsInMostRecentRole) / std(YearsInMostRecentRole) from Employee.csv</th><th>std(YearsInMostRecentRole) / min(YearsInMostRecentRole) from Employee.csv</th><th>min(YearsInMostRecentRole) + min(Education) from Employee.csv</th><th>min(YearsInMostRecentRole) - min(Education) from Employee.csv</th><th>min(Education) - min(YearsInMostRecentRole) from Employee.csv</th><th>min(YearsInMostRecentRole) * min(Education) from Employee.csv</th><th>min(YearsInMostRecentRole) / min(Education) from Employee.csv</th><th>min(Education) / min(YearsInMostRecentRole) from Employee.csv</th><th>min(YearsInMostRecentRole) + max(YearsWithCurrManager) from Employee.csv</th><th>min(YearsInMostRecentRole) - max(YearsWithCurrManager) from Employee.csv</th><th>max(YearsWithCurrManager) - min(YearsInMostRecentRole) from Employee.csv</th><th>min(YearsInMostRecentRole) * max(YearsWithCurrManager) from Employee.csv</th><th>min(YearsInMostRecentRole) / max(YearsWithCurrManager) from Employee.csv</th><th>max(YearsWithCurrManager) / min(YearsInMostRecentRole) from Employee.csv</th><th>std(YearsInMostRecentRole) + min(Education) from Employee.csv</th><th>std(YearsInMostRecentRole) - min(Education) from Employee.csv</th><th>min(Education) - std(YearsInMostRecentRole) from Employee.csv</th><th>std(YearsInMostRecentRole) * min(Education) from Employee.csv</th><th>std(YearsInMostRecentRole) / min(Education) from Employee.csv</th><th>min(Education) / std(YearsInMostRecentRole) from Employee.csv</th><th>std(YearsInMostRecentRole) + max(YearsWithCurrManager) from Employee.csv</th><th>std(YearsInMostRecentRole) - max(YearsWithCurrManager) from Employee.csv</th><th>max(YearsWithCurrManager) - std(YearsInMostRecentRole) from Employee.csv</th><th>std(YearsInMostRecentRole) * max(YearsWithCurrManager) from Employee.csv</th><th>std(YearsInMostRecentRole) / max(YearsWithCurrManager) from Employee.csv</th><th>max(YearsWithCurrManager) / std(YearsInMostRecentRole) from Employee.csv</th><th>min(Education) + max(YearsWithCurrManager) from Employee.csv</th><th>min(Education) - max(YearsWithCurrManager) from Employee.csv</th><th>max(YearsWithCurrManager) - min(Education) from Employee.csv</th><th>min(Education) * max(YearsWithCurrManager) from Employee.csv</th><th>min(Education) / max(YearsWithCurrManager) from Employee.csv</th><th>max(YearsWithCurrManager) / min(Education) from Employee.csv</th></tr><tr><td>u32</td><td>i64</td><td>f64</td><td>f64</td><td>i64</td><td>f64</td><td>i64</td><td>f64</td><td>u32</td><td>i64</td><td>f64</td><td>f64</td><td>i64</td><td>f64</td><td>i64</td><td>f64</td><td>i64</td><td>f64</td><td>f64</td><td>i64</td><td>f64</td><td>i64</td><td>f64</td><td>i64</td><td>f64</td><td>f64</td><td>i64</td><td>f64</td><td>i64</td><td>f64</td><td>i64</td><td>f64</td><td>f64</td><td>i64</td><td>f64</td><td>i64</td><td>f64</td><td>&hellip;</td><td>f64</td><td>f64</td><td>f64</td><td>f64</td><td>f64</td><td>f64</td><td>f64</td><td>i64</td><td>i64</td><td>i64</td><td>i64</td><td>f64</td><td>f64</td><td>i64</td><td>i64</td><td>i64</td><td>i64</td><td>f64</td><td>f64</td><td>f64</td><td>f64</td><td>f64</td><td>f64</td><td>f64</td><td>f64</td><td>f64</td><td>f64</td><td>f64</td><td>f64</td><td>f64</td><td>f64</td><td>i64</td><td>i64</td><td>i64</td><td>i64</td><td>f64</td><td>f64</td></tr></thead><tbody><tr><td>5</td><td>5</td><td>3.0</td><td>3.0</td><td>1</td><td>1.581139</td><td>15</td><td>2.5</td><td>6709</td><td>5</td><td>3.473394</td><td>3.0</td><td>2</td><td>0.961738</td><td>23303</td><td>0.92494</td><td>5</td><td>3.430616</td><td>3.0</td><td>1</td><td>1.152565</td><td>23016</td><td>1.328407</td><td>3</td><td>2.012968</td><td>2.0</td><td>1</td><td>0.82031</td><td>13505</td><td>0.672909</td><td>3</td><td>1.01729</td><td>1.0</td><td>0</td><td>0.950316</td><td>6825</td><td>0.9031</td><td>&hellip;</td><td>0.006803</td><td>2.539093</td><td>-2.539093</td><td>2.539093</td><td>0.0</td><td>0.0</td><td>inf</td><td>1</td><td>-1</td><td>1</td><td>0</td><td>0.0</td><td>inf</td><td>10</td><td>-10</td><td>10</td><td>0</td><td>0.0</td><td>inf</td><td>3.539093</td><td>1.539093</td><td>-1.539093</td><td>2.539093</td><td>2.539093</td><td>0.393841</td><td>12.539093</td><td>-7.460907</td><td>7.460907</td><td>25.390928</td><td>0.253909</td><td>3.938414</td><td>11</td><td>-9</td><td>9</td><td>10</td><td>0.1</td><td>10.0</td></tr><tr><td>5</td><td>5</td><td>3.0</td><td>3.0</td><td>1</td><td>1.581139</td><td>15</td><td>2.5</td><td>6709</td><td>5</td><td>3.473394</td><td>3.0</td><td>2</td><td>0.961738</td><td>23303</td><td>0.92494</td><td>5</td><td>3.430616</td><td>3.0</td><td>1</td><td>1.152565</td><td>23016</td><td>1.328407</td><td>3</td><td>2.012968</td><td>2.0</td><td>1</td><td>0.82031</td><td>13505</td><td>0.672909</td><td>3</td><td>1.01729</td><td>1.0</td><td>0</td><td>0.950316</td><td>6825</td><td>0.9031</td><td>&hellip;</td><td>0.006803</td><td>2.539093</td><td>-2.539093</td><td>2.539093</td><td>0.0</td><td>0.0</td><td>inf</td><td>1</td><td>-1</td><td>1</td><td>0</td><td>0.0</td><td>inf</td><td>10</td><td>-10</td><td>10</td><td>0</td><td>0.0</td><td>inf</td><td>3.539093</td><td>1.539093</td><td>-1.539093</td><td>2.539093</td><td>2.539093</td><td>0.393841</td><td>12.539093</td><td>-7.460907</td><td>7.460907</td><td>25.390928</td><td>0.253909</td><td>3.938414</td><td>11</td><td>-9</td><td>9</td><td>10</td><td>0.1</td><td>10.0</td></tr></tbody></table></div>"
      ],
      "text/plain": [
       "shape: (2, 22_321)\n",
       "┌───────────┬───────────┬───────────┬───────────┬───┬───────────┬───────────┬───────────┬──────────┐\n",
       "│ count(*)  ┆ max(Ratin ┆ mean(Rati ┆ median(Ra ┆ … ┆ max(Years ┆ min(Educa ┆ min(Educa ┆ max(Year │\n",
       "│ from Rati ┆ gID) from ┆ ngID)     ┆ tingID)   ┆   ┆ WithCurrM ┆ tion) *   ┆ tion) /   ┆ sWithCur │\n",
       "│ ngLevel.c ┆ RatingLev ┆ from Rati ┆ from      ┆   ┆ anager) - ┆ max(Years ┆ max(Years ┆ rManager │\n",
       "│ sv        ┆ el…       ┆ ngLeve…   ┆ RatingLe… ┆   ┆ mi…       ┆ With…     ┆ With…     ┆ ) / mi…  │\n",
       "│ ---       ┆ ---       ┆ ---       ┆ ---       ┆   ┆ ---       ┆ ---       ┆ ---       ┆ ---      │\n",
       "│ u32       ┆ i64       ┆ f64       ┆ f64       ┆   ┆ i64       ┆ i64       ┆ f64       ┆ f64      │\n",
       "╞═══════════╪═══════════╪═══════════╪═══════════╪═══╪═══════════╪═══════════╪═══════════╪══════════╡\n",
       "│ 5         ┆ 5         ┆ 3.0       ┆ 3.0       ┆ … ┆ 9         ┆ 10        ┆ 0.1       ┆ 10.0     │\n",
       "│ 5         ┆ 5         ┆ 3.0       ┆ 3.0       ┆ … ┆ 9         ┆ 10        ┆ 0.1       ┆ 10.0     │\n",
       "└───────────┴───────────┴───────────┴───────────┴───┴───────────┴───────────┴───────────┴──────────┘"
      ]
     },
     "execution_count": 5,
     "metadata": {},
     "output_type": "execute_result"
    }
   ],
   "source": [
    "features.collect()"
   ]
  },
  {
   "cell_type": "code",
   "execution_count": 6,
   "metadata": {},
   "outputs": [],
   "source": [
    "import numpy\n",
    "import sklearn.feature_selection\n",
    "import xgboost\n",
    "\n",
    "examples = [\n",
    "    (\n",
    "        Filter(eq={\"EmployeeID\": \"51A4-EA6E\"}),\n",
    "        True,\n",
    "    ),\n",
    "    (\n",
    "        Filter(eq={\"EmployeeID\": \"A4A4-F49C\"}),\n",
    "        False,\n",
    "    ),\n",
    "]\n",
    "\n",
    "features = (\n",
    "    derived_dataset\n",
    "    .features(filter for filter, _ in examples)\n",
    "    .collect()\n",
    ")\n",
    "\n",
    "selector = sklearn.feature_selection.SelectFromModel(\n",
    "    xgboost.XGBClassifier(missing=float(\"inf\")),\n",
    "    max_features=10,\n",
    ")\n",
    "\n",
    "selector.fit(\n",
    "    X=features.to_numpy(),\n",
    "    y=numpy.array([label for _, label in examples]),\n",
    ")\n",
    "\n",
    "selection = [\n",
    "    features.columns[i]\n",
    "    for i, selected in enumerate(selector.get_support())\n",
    "    if selected\n",
    "]"
   ]
  },
  {
   "cell_type": "code",
   "execution_count": 7,
   "metadata": {},
   "outputs": [
    {
     "data": {
      "text/plain": [
       "['count(*) from RatingLevel.csv',\n",
       " 'max(RatingID) from RatingLevel.csv',\n",
       " 'mean(RatingID) from RatingLevel.csv',\n",
       " 'median(RatingID) from RatingLevel.csv',\n",
       " 'min(RatingID) from RatingLevel.csv',\n",
       " 'std(RatingID) from RatingLevel.csv',\n",
       " 'sum(RatingID) from RatingLevel.csv',\n",
       " 'var(RatingID) from RatingLevel.csv',\n",
       " 'count(*) from PerformanceRating.csv',\n",
       " 'max(ManagerRating) from PerformanceRating.csv']"
      ]
     },
     "execution_count": 7,
     "metadata": {},
     "output_type": "execute_result"
    }
   ],
   "source": [
    "selection\n"
   ]
  }
 ],
 "metadata": {
  "kernelspec": {
   "display_name": ".venv",
   "language": "python",
   "name": "python3"
  },
  "language_info": {
   "codemirror_mode": {
    "name": "ipython",
    "version": 3
   },
   "file_extension": ".py",
   "mimetype": "text/x-python",
   "name": "python",
   "nbconvert_exporter": "python",
   "pygments_lexer": "ipython3",
   "version": "3.12.6"
  }
 },
 "nbformat": 4,
 "nbformat_minor": 2
}
