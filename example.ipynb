{
 "cells": [
  {
   "cell_type": "code",
   "execution_count": 1,
   "metadata": {},
   "outputs": [],
   "source": [
    "import polars\n",
    "\n",
    "from autofeat.dataset import *\n",
    "from autofeat.transform import *"
   ]
  },
  {
   "cell_type": "code",
   "execution_count": 2,
   "metadata": {},
   "outputs": [],
   "source": [
    "datasets = [\n",
    "    KaggleDataset(id=\"abdullah0a/urban-air-quality-and-health-impact-dataset\"),\n",
    "]"
   ]
  },
  {
   "cell_type": "code",
   "execution_count": 3,
   "metadata": {},
   "outputs": [],
   "source": [
    "tables = [\n",
    "    table\n",
    "    for dataset in datasets\n",
    "    for table in dataset.list_tables()\n",
    "]"
   ]
  },
  {
   "cell_type": "code",
   "execution_count": 4,
   "metadata": {},
   "outputs": [],
   "source": [
    "transform = (\n",
    "    Filter(eq={\"Day_of_Week\": \"Wednesday\"})\n",
    "    .then(Rename(mapping={\"datetime\": \"date\"}))\n",
    "    .then(Cast())\n",
    "    .then(Aggregate(by={\"Day_of_Week\"}))\n",
    "    .then(Identity(), Combine())\n",
    ")"
   ]
  },
  {
   "cell_type": "code",
   "execution_count": 5,
   "metadata": {},
   "outputs": [],
   "source": [
    "features = polars.collect_all([\n",
    "    table.data \n",
    "    for table in transform.apply(tables)\n",
    "])"
   ]
  },
  {
   "cell_type": "code",
   "execution_count": 6,
   "metadata": {},
   "outputs": [
    {
     "data": {
      "text/plain": [
       "[shape: (1, 324)\n",
       " ┌───────────┬───────────┬───────────┬───────────┬───┬───────────┬───────────┬───────────┬──────────┐\n",
       " │ Day_of_We ┆ count(dat ┆ null_coun ┆ count(dat ┆ … ┆ min(Healt ┆ std(Healt ┆ sum(Healt ┆ var(Heal │\n",
       " │ ek        ┆ e)        ┆ t(date)   ┆ etimeEpoc ┆   ┆ h_Risk_Sc ┆ h_Risk_Sc ┆ h_Risk_Sc ┆ th_Risk_ │\n",
       " │ ---       ┆ ---       ┆ ---       ┆ h)        ┆   ┆ ore)      ┆ ore)      ┆ ore)      ┆ Score)   │\n",
       " │ str       ┆ u32       ┆ u32       ┆ ---       ┆   ┆ ---       ┆ ---       ┆ ---       ┆ ---      │\n",
       " │           ┆           ┆           ┆ u32       ┆   ┆ f64       ┆ f64       ┆ f64       ┆ f64      │\n",
       " ╞═══════════╪═══════════╪═══════════╪═══════════╪═══╪═══════════╪═══════════╪═══════════╪══════════╡\n",
       " │ Wednesday ┆ 138       ┆ 0         ┆ 138       ┆ … ┆ 8.492431  ┆ 0.68898   ┆ 1315.7939 ┆ 0.474693 │\n",
       " │           ┆           ┆           ┆           ┆   ┆           ┆           ┆ 8         ┆          │\n",
       " └───────────┴───────────┴───────────┴───────────┴───┴───────────┴───────────┴───────────┴──────────┘,\n",
       " shape: (1, 312_018)\n",
       " ┌───────────┬───────────┬───────────┬───────────┬───┬───────────┬───────────┬───────────┬──────────┐\n",
       " │ count(dat ┆ count(dat ┆ null_coun ┆ count(dat ┆ … ┆ var(Healt ┆ sum(Healt ┆ sum(Healt ┆ var(Heal │\n",
       " │ e) + null ┆ e) - null ┆ t(date) - ┆ e) * null ┆   ┆ h_Risk_Sc ┆ h_Risk_Sc ┆ h_Risk_Sc ┆ th_Risk_ │\n",
       " │ _count(da ┆ _count(da ┆ count(dat ┆ _count(da ┆   ┆ ore) -    ┆ ore) *    ┆ ore) /    ┆ Score) / │\n",
       " │ te)       ┆ te)       ┆ e)        ┆ te)       ┆   ┆ sum(H…    ┆ var(H…    ┆ var(H…    ┆ sum(H…   │\n",
       " │ ---       ┆ ---       ┆ ---       ┆ ---       ┆   ┆ ---       ┆ ---       ┆ ---       ┆ ---      │\n",
       " │ u32       ┆ u32       ┆ u32       ┆ u32       ┆   ┆ f64       ┆ f64       ┆ f64       ┆ f64      │\n",
       " ╞═══════════╪═══════════╪═══════════╪═══════════╪═══╪═══════════╪═══════════╪═══════════╪══════════╡\n",
       " │ 138       ┆ 138       ┆ 429496715 ┆ 0         ┆ … ┆ -1315.319 ┆ 624.59833 ┆ 2771.8834 ┆ 0.000361 │\n",
       " │           ┆           ┆ 8         ┆           ┆   ┆ 287       ┆ 6         ┆ 61        ┆          │\n",
       " └───────────┴───────────┴───────────┴───────────┴───┴───────────┴───────────┴───────────┴──────────┘]"
      ]
     },
     "execution_count": 6,
     "metadata": {},
     "output_type": "execute_result"
    }
   ],
   "source": [
    "features"
   ]
  }
 ],
 "metadata": {
  "kernelspec": {
   "display_name": ".venv",
   "language": "python",
   "name": "python3"
  },
  "language_info": {
   "codemirror_mode": {
    "name": "ipython",
    "version": 3
   },
   "file_extension": ".py",
   "mimetype": "text/x-python",
   "name": "python",
   "nbconvert_exporter": "python",
   "pygments_lexer": "ipython3",
   "version": "3.12.5"
  }
 },
 "nbformat": 4,
 "nbformat_minor": 2
}
