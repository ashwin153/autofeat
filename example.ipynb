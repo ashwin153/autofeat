{
 "cells": [
  {
   "cell_type": "code",
   "execution_count": 1,
   "metadata": {},
   "outputs": [],
   "source": [
    "import polars\n",
    "\n",
    "from autofeat.dataset import *\n",
    "from autofeat.transform import *"
   ]
  },
  {
   "cell_type": "code",
   "execution_count": 2,
   "metadata": {},
   "outputs": [],
   "source": [
    "datasets = [\n",
    "    KaggleDataset(id=\"mahmoudemadabdallah/hr-analytics-employee-attrition-and-performance\"),\n",
    "]"
   ]
  },
  {
   "cell_type": "code",
   "execution_count": 3,
   "metadata": {},
   "outputs": [],
   "source": [
    "tables = [\n",
    "    table\n",
    "    for dataset in datasets\n",
    "    for table in dataset.list_tables()\n",
    "]"
   ]
  },
  {
   "cell_type": "code",
   "execution_count": 4,
   "metadata": {},
   "outputs": [],
   "source": [
    "transform = (\n",
    "    Cast()\n",
    "    .then(Encode())\n",
    "    .then(Aggregate(by={\"EmployeeID\"}))\n",
    "    .then(Identity(), Join(on={\"EmployeeID\"}))\n",
    "    .then(Identity(), Combine())\n",
    ")"
   ]
  },
  {
   "cell_type": "code",
   "execution_count": 5,
   "metadata": {},
   "outputs": [],
   "source": [
    "results = polars.collect_all([\n",
    "    table.data.select(\n",
    "        (polars.selectors.boolean() | polars.selectors.numeric())\n",
    "        .name.suffix(f\" from {table.name}\")\n",
    "    )\n",
    "    for table in transform.apply(tables)\n",
    "])"
   ]
  },
  {
   "cell_type": "code",
   "execution_count": 6,
   "metadata": {},
   "outputs": [],
   "source": [
    "features = polars.concat(\n",
    "    [df for df in results if len(df) == 1],\n",
    "    how=\"horizontal\",\n",
    ")"
   ]
  },
  {
   "cell_type": "code",
   "execution_count": 7,
   "metadata": {},
   "outputs": [
    {
     "data": {
      "text/html": [
       "<div><style>\n",
       ".dataframe > thead > tr,\n",
       ".dataframe > tbody > tr {\n",
       "  text-align: right;\n",
       "  white-space: pre-wrap;\n",
       "}\n",
       "</style>\n",
       "<small>shape: (1, 22_321)</small><table border=\"1\" class=\"dataframe\"><thead><tr><th>count(*) from RatingLevel.csv</th><th>max(RatingID) from RatingLevel.csv</th><th>mean(RatingID) from RatingLevel.csv</th><th>median(RatingID) from RatingLevel.csv</th><th>min(RatingID) from RatingLevel.csv</th><th>std(RatingID) from RatingLevel.csv</th><th>sum(RatingID) from RatingLevel.csv</th><th>var(RatingID) from RatingLevel.csv</th><th>count(*) from PerformanceRating.csv</th><th>max(JobSatisfaction) from PerformanceRating.csv</th><th>mean(JobSatisfaction) from PerformanceRating.csv</th><th>median(JobSatisfaction) from PerformanceRating.csv</th><th>min(JobSatisfaction) from PerformanceRating.csv</th><th>std(JobSatisfaction) from PerformanceRating.csv</th><th>sum(JobSatisfaction) from PerformanceRating.csv</th><th>var(JobSatisfaction) from PerformanceRating.csv</th><th>max(RelationshipSatisfaction) from PerformanceRating.csv</th><th>mean(RelationshipSatisfaction) from PerformanceRating.csv</th><th>median(RelationshipSatisfaction) from PerformanceRating.csv</th><th>min(RelationshipSatisfaction) from PerformanceRating.csv</th><th>std(RelationshipSatisfaction) from PerformanceRating.csv</th><th>sum(RelationshipSatisfaction) from PerformanceRating.csv</th><th>var(RelationshipSatisfaction) from PerformanceRating.csv</th><th>max(EnvironmentSatisfaction) from PerformanceRating.csv</th><th>mean(EnvironmentSatisfaction) from PerformanceRating.csv</th><th>median(EnvironmentSatisfaction) from PerformanceRating.csv</th><th>min(EnvironmentSatisfaction) from PerformanceRating.csv</th><th>std(EnvironmentSatisfaction) from PerformanceRating.csv</th><th>sum(EnvironmentSatisfaction) from PerformanceRating.csv</th><th>var(EnvironmentSatisfaction) from PerformanceRating.csv</th><th>max(TrainingOpportunitiesWithinYear) from PerformanceRating.csv</th><th>mean(TrainingOpportunitiesWithinYear) from PerformanceRating.csv</th><th>median(TrainingOpportunitiesWithinYear) from PerformanceRating.csv</th><th>min(TrainingOpportunitiesWithinYear) from PerformanceRating.csv</th><th>std(TrainingOpportunitiesWithinYear) from PerformanceRating.csv</th><th>sum(TrainingOpportunitiesWithinYear) from PerformanceRating.csv</th><th>var(TrainingOpportunitiesWithinYear) from PerformanceRating.csv</th><th>&hellip;</th><th>median(DistanceFromHome (KM)) / std(StockOptionLevel) from Employee.csv</th><th>mean(YearsWithCurrManager) + count(*) from Employee.csv</th><th>mean(YearsWithCurrManager) - count(*) from Employee.csv</th><th>count(*) - mean(YearsWithCurrManager) from Employee.csv</th><th>mean(YearsWithCurrManager) * count(*) from Employee.csv</th><th>mean(YearsWithCurrManager) / count(*) from Employee.csv</th><th>count(*) / mean(YearsWithCurrManager) from Employee.csv</th><th>mean(YearsWithCurrManager) + std(YearsAtCompany) from Employee.csv</th><th>mean(YearsWithCurrManager) - std(YearsAtCompany) from Employee.csv</th><th>std(YearsAtCompany) - mean(YearsWithCurrManager) from Employee.csv</th><th>mean(YearsWithCurrManager) * std(YearsAtCompany) from Employee.csv</th><th>mean(YearsWithCurrManager) / std(YearsAtCompany) from Employee.csv</th><th>std(YearsAtCompany) / mean(YearsWithCurrManager) from Employee.csv</th><th>mean(YearsWithCurrManager) + median(DistanceFromHome (KM)) from Employee.csv</th><th>mean(YearsWithCurrManager) - median(DistanceFromHome (KM)) from Employee.csv</th><th>median(DistanceFromHome (KM)) - mean(YearsWithCurrManager) from Employee.csv</th><th>mean(YearsWithCurrManager) * median(DistanceFromHome (KM)) from Employee.csv</th><th>mean(YearsWithCurrManager) / median(DistanceFromHome (KM)) from Employee.csv</th><th>median(DistanceFromHome (KM)) / mean(YearsWithCurrManager) from Employee.csv</th><th>count(*) + std(YearsAtCompany) from Employee.csv</th><th>count(*) - std(YearsAtCompany) from Employee.csv</th><th>std(YearsAtCompany) - count(*) from Employee.csv</th><th>count(*) * std(YearsAtCompany) from Employee.csv</th><th>count(*) / std(YearsAtCompany) from Employee.csv</th><th>std(YearsAtCompany) / count(*) from Employee.csv</th><th>count(*) + median(DistanceFromHome (KM)) from Employee.csv</th><th>count(*) - median(DistanceFromHome (KM)) from Employee.csv</th><th>median(DistanceFromHome (KM)) - count(*) from Employee.csv</th><th>count(*) * median(DistanceFromHome (KM)) from Employee.csv</th><th>count(*) / median(DistanceFromHome (KM)) from Employee.csv</th><th>median(DistanceFromHome (KM)) / count(*) from Employee.csv</th><th>std(YearsAtCompany) + median(DistanceFromHome (KM)) from Employee.csv</th><th>std(YearsAtCompany) - median(DistanceFromHome (KM)) from Employee.csv</th><th>median(DistanceFromHome (KM)) - std(YearsAtCompany) from Employee.csv</th><th>std(YearsAtCompany) * median(DistanceFromHome (KM)) from Employee.csv</th><th>std(YearsAtCompany) / median(DistanceFromHome (KM)) from Employee.csv</th><th>median(DistanceFromHome (KM)) / std(YearsAtCompany) from Employee.csv</th></tr><tr><td>u32</td><td>i64</td><td>f64</td><td>f64</td><td>i64</td><td>f64</td><td>i64</td><td>f64</td><td>u32</td><td>i64</td><td>f64</td><td>f64</td><td>i64</td><td>f64</td><td>i64</td><td>f64</td><td>i64</td><td>f64</td><td>f64</td><td>i64</td><td>f64</td><td>i64</td><td>f64</td><td>i64</td><td>f64</td><td>f64</td><td>i64</td><td>f64</td><td>i64</td><td>f64</td><td>i64</td><td>f64</td><td>f64</td><td>i64</td><td>f64</td><td>i64</td><td>f64</td><td>&hellip;</td><td>f64</td><td>f64</td><td>f64</td><td>f64</td><td>f64</td><td>f64</td><td>f64</td><td>f64</td><td>f64</td><td>f64</td><td>f64</td><td>f64</td><td>f64</td><td>f64</td><td>f64</td><td>f64</td><td>f64</td><td>f64</td><td>f64</td><td>f64</td><td>f64</td><td>f64</td><td>f64</td><td>f64</td><td>f64</td><td>f64</td><td>f64</td><td>f64</td><td>f64</td><td>f64</td><td>f64</td><td>f64</td><td>f64</td><td>f64</td><td>f64</td><td>f64</td><td>f64</td></tr></thead><tbody><tr><td>5</td><td>5</td><td>3.0</td><td>3.0</td><td>1</td><td>1.581139</td><td>15</td><td>2.5</td><td>6709</td><td>5</td><td>3.430616</td><td>3.0</td><td>1</td><td>1.152565</td><td>23016</td><td>1.328407</td><td>5</td><td>3.427336</td><td>3.0</td><td>1</td><td>1.156753</td><td>22994</td><td>1.338078</td><td>5</td><td>3.872559</td><td>4.0</td><td>1</td><td>0.940701</td><td>25981</td><td>0.884919</td><td>3</td><td>2.012968</td><td>2.0</td><td>1</td><td>0.82031</td><td>13505</td><td>0.672909</td><td>&hellip;</td><td>25.819273</td><td>1472.239456</td><td>-1467.760544</td><td>1467.760544</td><td>3292.0</td><td>0.001523</td><td>656.409478</td><td>5.527504</td><td>-1.048592</td><td>1.048592</td><td>7.363439</td><td>0.68109</td><td>1.468235</td><td>24.239456</td><td>-19.760544</td><td>19.760544</td><td>49.268027</td><td>0.101793</td><td>9.823815</td><td>1473.288048</td><td>1466.711952</td><td>-1466.711952</td><td>4833.430826</td><td>447.073741</td><td>0.002237</td><td>1492.0</td><td>1448.0</td><td>-1448.0</td><td>32340.0</td><td>66.818182</td><td>0.014966</td><td>25.288048</td><td>-18.711952</td><td>18.711952</td><td>72.33706</td><td>0.149457</td><td>6.6909</td></tr></tbody></table></div>"
      ],
      "text/plain": [
       "shape: (1, 22_321)\n",
       "┌───────────┬───────────┬───────────┬───────────┬───┬───────────┬───────────┬───────────┬──────────┐\n",
       "│ count(*)  ┆ max(Ratin ┆ mean(Rati ┆ median(Ra ┆ … ┆ median(Di ┆ std(Years ┆ std(Years ┆ median(D │\n",
       "│ from Rati ┆ gID) from ┆ ngID)     ┆ tingID)   ┆   ┆ stanceFro ┆ AtCompany ┆ AtCompany ┆ istanceF │\n",
       "│ ngLevel.c ┆ RatingLev ┆ from Rati ┆ from      ┆   ┆ mHome     ┆ ) *       ┆ ) /       ┆ romHome  │\n",
       "│ sv        ┆ el…       ┆ ngLeve…   ┆ RatingLe… ┆   ┆ (KM)) …   ┆ median(D… ┆ median(D… ┆ (KM)) …  │\n",
       "│ ---       ┆ ---       ┆ ---       ┆ ---       ┆   ┆ ---       ┆ ---       ┆ ---       ┆ ---      │\n",
       "│ u32       ┆ i64       ┆ f64       ┆ f64       ┆   ┆ f64       ┆ f64       ┆ f64       ┆ f64      │\n",
       "╞═══════════╪═══════════╪═══════════╪═══════════╪═══╪═══════════╪═══════════╪═══════════╪══════════╡\n",
       "│ 5         ┆ 5         ┆ 3.0       ┆ 3.0       ┆ … ┆ 18.711952 ┆ 72.33706  ┆ 0.149457  ┆ 6.6909   │\n",
       "└───────────┴───────────┴───────────┴───────────┴───┴───────────┴───────────┴───────────┴──────────┘"
      ]
     },
     "execution_count": 7,
     "metadata": {},
     "output_type": "execute_result"
    }
   ],
   "source": [
    "features"
   ]
  }
 ],
 "metadata": {
  "kernelspec": {
   "display_name": ".venv",
   "language": "python",
   "name": "python3"
  },
  "language_info": {
   "codemirror_mode": {
    "name": "ipython",
    "version": 3
   },
   "file_extension": ".py",
   "mimetype": "text/x-python",
   "name": "python",
   "nbconvert_exporter": "python",
   "pygments_lexer": "ipython3",
   "version": "3.12.5"
  }
 },
 "nbformat": 4,
 "nbformat_minor": 2
}
