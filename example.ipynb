{
 "cells": [
  {
   "cell_type": "code",
   "execution_count": 1,
   "metadata": {},
   "outputs": [],
   "source": [
    "import polars\n",
    "\n",
    "from autofeat.dataset import *\n",
    "from autofeat.transform import *"
   ]
  },
  {
   "cell_type": "code",
   "execution_count": 2,
   "metadata": {},
   "outputs": [],
   "source": [
    "datasets = [\n",
    "    KaggleDataset(id=\"mahmoudemadabdallah/hr-analytics-employee-attrition-and-performance\"),\n",
    "]"
   ]
  },
  {
   "cell_type": "code",
   "execution_count": 3,
   "metadata": {},
   "outputs": [],
   "source": [
    "tables = [\n",
    "    table\n",
    "    for dataset in datasets\n",
    "    for table in dataset.list_tables()\n",
    "]"
   ]
  },
  {
   "cell_type": "code",
   "execution_count": 4,
   "metadata": {},
   "outputs": [],
   "source": [
    "transform = (\n",
    "    Cast()\n",
    "    .then(Aggregate(by={\"EmployeeID\"}))\n",
    "    .then(Identity(), Join(on={\"EmployeeID\"}))\n",
    "    .then(Identity(), Combine())\n",
    ")"
   ]
  },
  {
   "cell_type": "code",
   "execution_count": 5,
   "metadata": {},
   "outputs": [],
   "source": [
    "results = polars.collect_all([\n",
    "    table.data.select(polars.all().name.suffix(f\" from {table.name}\")) \n",
    "    for table in transform.apply(tables)\n",
    "])"
   ]
  },
  {
   "cell_type": "code",
   "execution_count": 6,
   "metadata": {},
   "outputs": [],
   "source": [
    "features = polars.concat(\n",
    "    [\n",
    "        df.select(polars.selectors.numeric()) \n",
    "        for df in results\n",
    "        if len(df) == 1\n",
    "    ],\n",
    "    how=\"horizontal\",\n",
    ")"
   ]
  },
  {
   "cell_type": "code",
   "execution_count": 7,
   "metadata": {},
   "outputs": [
    {
     "data": {
      "text/html": [
       "<div><style>\n",
       ".dataframe > thead > tr,\n",
       ".dataframe > tbody > tr {\n",
       "  text-align: right;\n",
       "  white-space: pre-wrap;\n",
       "}\n",
       "</style>\n",
       "<small>shape: (1, 528)</small><table border=\"1\" class=\"dataframe\"><thead><tr><th>count(*) from RatingLevel.csv</th><th>max(RatingID) from RatingLevel.csv</th><th>mean(RatingID) from RatingLevel.csv</th><th>median(RatingID) from RatingLevel.csv</th><th>min(RatingID) from RatingLevel.csv</th><th>sum(RatingID) from RatingLevel.csv</th><th>std(RatingID) from RatingLevel.csv</th><th>var(RatingID) from RatingLevel.csv</th><th>count(*) from SatisfiedLevel.csv</th><th>max(SatisfactionID) from SatisfiedLevel.csv</th><th>mean(SatisfactionID) from SatisfiedLevel.csv</th><th>median(SatisfactionID) from SatisfiedLevel.csv</th><th>min(SatisfactionID) from SatisfiedLevel.csv</th><th>sum(SatisfactionID) from SatisfiedLevel.csv</th><th>std(SatisfactionID) from SatisfiedLevel.csv</th><th>var(SatisfactionID) from SatisfiedLevel.csv</th><th>count(*) from EducationLevel.csv</th><th>max(EducationLevelID) from EducationLevel.csv</th><th>mean(EducationLevelID) from EducationLevel.csv</th><th>median(EducationLevelID) from EducationLevel.csv</th><th>min(EducationLevelID) from EducationLevel.csv</th><th>sum(EducationLevelID) from EducationLevel.csv</th><th>std(EducationLevelID) from EducationLevel.csv</th><th>var(EducationLevelID) from EducationLevel.csv</th><th>count(*) + max(RatingID) from RatingLevel.csv</th><th>count(*) - max(RatingID) from RatingLevel.csv</th><th>max(RatingID) - count(*) from RatingLevel.csv</th><th>count(*) * max(RatingID) from RatingLevel.csv</th><th>count(*) / max(RatingID) from RatingLevel.csv</th><th>max(RatingID) / count(*) from RatingLevel.csv</th><th>count(*) + mean(RatingID) from RatingLevel.csv</th><th>count(*) - mean(RatingID) from RatingLevel.csv</th><th>mean(RatingID) - count(*) from RatingLevel.csv</th><th>count(*) * mean(RatingID) from RatingLevel.csv</th><th>count(*) / mean(RatingID) from RatingLevel.csv</th><th>mean(RatingID) / count(*) from RatingLevel.csv</th><th>count(*) + median(RatingID) from RatingLevel.csv</th><th>&hellip;</th><th>var(EducationLevelID) / median(EducationLevelID) from EducationLevel.csv</th><th>min(EducationLevelID) + sum(EducationLevelID) from EducationLevel.csv</th><th>min(EducationLevelID) - sum(EducationLevelID) from EducationLevel.csv</th><th>sum(EducationLevelID) - min(EducationLevelID) from EducationLevel.csv</th><th>min(EducationLevelID) * sum(EducationLevelID) from EducationLevel.csv</th><th>min(EducationLevelID) / sum(EducationLevelID) from EducationLevel.csv</th><th>sum(EducationLevelID) / min(EducationLevelID) from EducationLevel.csv</th><th>min(EducationLevelID) + std(EducationLevelID) from EducationLevel.csv</th><th>min(EducationLevelID) - std(EducationLevelID) from EducationLevel.csv</th><th>std(EducationLevelID) - min(EducationLevelID) from EducationLevel.csv</th><th>min(EducationLevelID) * std(EducationLevelID) from EducationLevel.csv</th><th>min(EducationLevelID) / std(EducationLevelID) from EducationLevel.csv</th><th>std(EducationLevelID) / min(EducationLevelID) from EducationLevel.csv</th><th>min(EducationLevelID) + var(EducationLevelID) from EducationLevel.csv</th><th>min(EducationLevelID) - var(EducationLevelID) from EducationLevel.csv</th><th>var(EducationLevelID) - min(EducationLevelID) from EducationLevel.csv</th><th>min(EducationLevelID) * var(EducationLevelID) from EducationLevel.csv</th><th>min(EducationLevelID) / var(EducationLevelID) from EducationLevel.csv</th><th>var(EducationLevelID) / min(EducationLevelID) from EducationLevel.csv</th><th>sum(EducationLevelID) + std(EducationLevelID) from EducationLevel.csv</th><th>sum(EducationLevelID) - std(EducationLevelID) from EducationLevel.csv</th><th>std(EducationLevelID) - sum(EducationLevelID) from EducationLevel.csv</th><th>sum(EducationLevelID) * std(EducationLevelID) from EducationLevel.csv</th><th>sum(EducationLevelID) / std(EducationLevelID) from EducationLevel.csv</th><th>std(EducationLevelID) / sum(EducationLevelID) from EducationLevel.csv</th><th>sum(EducationLevelID) + var(EducationLevelID) from EducationLevel.csv</th><th>sum(EducationLevelID) - var(EducationLevelID) from EducationLevel.csv</th><th>var(EducationLevelID) - sum(EducationLevelID) from EducationLevel.csv</th><th>sum(EducationLevelID) * var(EducationLevelID) from EducationLevel.csv</th><th>sum(EducationLevelID) / var(EducationLevelID) from EducationLevel.csv</th><th>var(EducationLevelID) / sum(EducationLevelID) from EducationLevel.csv</th><th>std(EducationLevelID) + var(EducationLevelID) from EducationLevel.csv</th><th>std(EducationLevelID) - var(EducationLevelID) from EducationLevel.csv</th><th>var(EducationLevelID) - std(EducationLevelID) from EducationLevel.csv</th><th>std(EducationLevelID) * var(EducationLevelID) from EducationLevel.csv</th><th>std(EducationLevelID) / var(EducationLevelID) from EducationLevel.csv</th><th>var(EducationLevelID) / std(EducationLevelID) from EducationLevel.csv</th></tr><tr><td>u32</td><td>i64</td><td>f64</td><td>f64</td><td>i64</td><td>i64</td><td>f64</td><td>f64</td><td>u32</td><td>i64</td><td>f64</td><td>f64</td><td>i64</td><td>i64</td><td>f64</td><td>f64</td><td>u32</td><td>i64</td><td>f64</td><td>f64</td><td>i64</td><td>i64</td><td>f64</td><td>f64</td><td>i64</td><td>i64</td><td>i64</td><td>i64</td><td>f64</td><td>f64</td><td>f64</td><td>f64</td><td>f64</td><td>f64</td><td>f64</td><td>f64</td><td>f64</td><td>&hellip;</td><td>f64</td><td>i64</td><td>i64</td><td>i64</td><td>i64</td><td>f64</td><td>f64</td><td>f64</td><td>f64</td><td>f64</td><td>f64</td><td>f64</td><td>f64</td><td>f64</td><td>f64</td><td>f64</td><td>f64</td><td>f64</td><td>f64</td><td>f64</td><td>f64</td><td>f64</td><td>f64</td><td>f64</td><td>f64</td><td>f64</td><td>f64</td><td>f64</td><td>f64</td><td>f64</td><td>f64</td><td>f64</td><td>f64</td><td>f64</td><td>f64</td><td>f64</td><td>f64</td></tr></thead><tbody><tr><td>5</td><td>5</td><td>3.0</td><td>3.0</td><td>1</td><td>15</td><td>1.581139</td><td>2.5</td><td>5</td><td>5</td><td>3.0</td><td>3.0</td><td>1</td><td>15</td><td>1.581139</td><td>2.5</td><td>5</td><td>5</td><td>3.0</td><td>3.0</td><td>1</td><td>15</td><td>1.581139</td><td>2.5</td><td>10</td><td>0</td><td>0</td><td>25</td><td>1.0</td><td>1.0</td><td>8.0</td><td>2.0</td><td>-2.0</td><td>15.0</td><td>1.666667</td><td>0.6</td><td>8.0</td><td>&hellip;</td><td>0.833333</td><td>16</td><td>-14</td><td>14</td><td>15</td><td>0.066667</td><td>15.0</td><td>2.581139</td><td>-0.581139</td><td>0.581139</td><td>1.581139</td><td>0.632456</td><td>1.581139</td><td>3.5</td><td>-1.5</td><td>1.5</td><td>2.5</td><td>0.4</td><td>2.5</td><td>16.581139</td><td>13.418861</td><td>-13.418861</td><td>23.717082</td><td>9.486833</td><td>0.105409</td><td>17.5</td><td>12.5</td><td>-12.5</td><td>37.5</td><td>6.0</td><td>0.166667</td><td>4.081139</td><td>-0.918861</td><td>0.918861</td><td>3.952847</td><td>0.632456</td><td>1.581139</td></tr></tbody></table></div>"
      ],
      "text/plain": [
       "shape: (1, 528)\n",
       "┌───────────┬───────────┬───────────┬───────────┬───┬───────────┬───────────┬───────────┬──────────┐\n",
       "│ count(*)  ┆ max(Ratin ┆ mean(Rati ┆ median(Ra ┆ … ┆ var(Educa ┆ std(Educa ┆ std(Educa ┆ var(Educ │\n",
       "│ from Rati ┆ gID) from ┆ ngID)     ┆ tingID)   ┆   ┆ tionLevel ┆ tionLevel ┆ tionLevel ┆ ationLev │\n",
       "│ ngLevel.c ┆ RatingLev ┆ from Rati ┆ from      ┆   ┆ ID) -     ┆ ID) *     ┆ ID) /     ┆ elID) /  │\n",
       "│ sv        ┆ el…       ┆ ngLeve…   ┆ RatingLe… ┆   ┆ std(Ed…   ┆ var(Ed…   ┆ var(Ed…   ┆ std(Ed…  │\n",
       "│ ---       ┆ ---       ┆ ---       ┆ ---       ┆   ┆ ---       ┆ ---       ┆ ---       ┆ ---      │\n",
       "│ u32       ┆ i64       ┆ f64       ┆ f64       ┆   ┆ f64       ┆ f64       ┆ f64       ┆ f64      │\n",
       "╞═══════════╪═══════════╪═══════════╪═══════════╪═══╪═══════════╪═══════════╪═══════════╪══════════╡\n",
       "│ 5         ┆ 5         ┆ 3.0       ┆ 3.0       ┆ … ┆ 0.918861  ┆ 3.952847  ┆ 0.632456  ┆ 1.581139 │\n",
       "└───────────┴───────────┴───────────┴───────────┴───┴───────────┴───────────┴───────────┴──────────┘"
      ]
     },
     "execution_count": 7,
     "metadata": {},
     "output_type": "execute_result"
    }
   ],
   "source": [
    "features"
   ]
  }
 ],
 "metadata": {
  "kernelspec": {
   "display_name": ".venv",
   "language": "python",
   "name": "python3"
  },
  "language_info": {
   "codemirror_mode": {
    "name": "ipython",
    "version": 3
   },
   "file_extension": ".py",
   "mimetype": "text/x-python",
   "name": "python",
   "nbconvert_exporter": "python",
   "pygments_lexer": "ipython3",
   "version": "3.12.5"
  }
 },
 "nbformat": 4,
 "nbformat_minor": 2
}
