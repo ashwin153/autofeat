{
 "cells": [
  {
   "cell_type": "code",
   "execution_count": 1,
   "metadata": {},
   "outputs": [],
   "source": [
    "from autofeat.dataset import *\n",
    "\n",
    "source_dataset = KaggleDataset(id=\"mahmoudemadabdallah/hr-analytics-employee-attrition-and-performance\")"
   ]
  },
  {
   "cell_type": "code",
   "execution_count": 2,
   "metadata": {},
   "outputs": [],
   "source": [
    "from autofeat.transform import *\n",
    "\n",
    "transform = (\n",
    "    Cast()\n",
    "    .then(Encode())\n",
    "    .then(Aggregate(by={\"EmployeeID\"}))\n",
    "    .then(Identity(), Join(on={\"EmployeeID\"}))\n",
    "    .then(Identity(), Combine())\n",
    ")"
   ]
  },
  {
   "cell_type": "code",
   "execution_count": 3,
   "metadata": {},
   "outputs": [],
   "source": [
    "derived_dataset = source_dataset.derive(transform)"
   ]
  },
  {
   "cell_type": "code",
   "execution_count": 4,
   "metadata": {},
   "outputs": [
    {
     "name": "stdout",
     "output_type": "stream",
     "text": [
      "Warning: Your Kaggle API key is readable by other users on this system! To fix this, you can run 'chmod 600 /home/vscode/.config/kaggle/kaggle.json'\n",
      "Dataset URL: https://www.kaggle.com/datasets/mahmoudemadabdallah/hr-analytics-employee-attrition-and-performance\n"
     ]
    }
   ],
   "source": [
    "features = derived_dataset.features(\n",
    "    Filter(eq={\"EmployeeID\": \"51A4-EA6E\"}),\n",
    "    Filter(eq={\"EmployeeID\": \"A4A4-F49C\"}),\n",
    ")"
   ]
  },
  {
   "cell_type": "code",
   "execution_count": 5,
   "metadata": {},
   "outputs": [
    {
     "data": {
      "text/html": [
       "<div><style>\n",
       ".dataframe > thead > tr,\n",
       ".dataframe > tbody > tr {\n",
       "  text-align: right;\n",
       "  white-space: pre-wrap;\n",
       "}\n",
       "</style>\n",
       "<small>shape: (2, 22_321)</small><table border=\"1\" class=\"dataframe\"><thead><tr><th>count(*) from RatingLevel.csv</th><th>max(RatingID) from RatingLevel.csv</th><th>mean(RatingID) from RatingLevel.csv</th><th>median(RatingID) from RatingLevel.csv</th><th>min(RatingID) from RatingLevel.csv</th><th>std(RatingID) from RatingLevel.csv</th><th>sum(RatingID) from RatingLevel.csv</th><th>var(RatingID) from RatingLevel.csv</th><th>count(*) from PerformanceRating.csv</th><th>max(WorkLifeBalance) from PerformanceRating.csv</th><th>mean(WorkLifeBalance) from PerformanceRating.csv</th><th>median(WorkLifeBalance) from PerformanceRating.csv</th><th>min(WorkLifeBalance) from PerformanceRating.csv</th><th>std(WorkLifeBalance) from PerformanceRating.csv</th><th>sum(WorkLifeBalance) from PerformanceRating.csv</th><th>var(WorkLifeBalance) from PerformanceRating.csv</th><th>max(JobSatisfaction) from PerformanceRating.csv</th><th>mean(JobSatisfaction) from PerformanceRating.csv</th><th>median(JobSatisfaction) from PerformanceRating.csv</th><th>min(JobSatisfaction) from PerformanceRating.csv</th><th>std(JobSatisfaction) from PerformanceRating.csv</th><th>sum(JobSatisfaction) from PerformanceRating.csv</th><th>var(JobSatisfaction) from PerformanceRating.csv</th><th>max(EnvironmentSatisfaction) from PerformanceRating.csv</th><th>mean(EnvironmentSatisfaction) from PerformanceRating.csv</th><th>median(EnvironmentSatisfaction) from PerformanceRating.csv</th><th>min(EnvironmentSatisfaction) from PerformanceRating.csv</th><th>std(EnvironmentSatisfaction) from PerformanceRating.csv</th><th>sum(EnvironmentSatisfaction) from PerformanceRating.csv</th><th>var(EnvironmentSatisfaction) from PerformanceRating.csv</th><th>max(RelationshipSatisfaction) from PerformanceRating.csv</th><th>mean(RelationshipSatisfaction) from PerformanceRating.csv</th><th>median(RelationshipSatisfaction) from PerformanceRating.csv</th><th>min(RelationshipSatisfaction) from PerformanceRating.csv</th><th>std(RelationshipSatisfaction) from PerformanceRating.csv</th><th>sum(RelationshipSatisfaction) from PerformanceRating.csv</th><th>var(RelationshipSatisfaction) from PerformanceRating.csv</th><th>&hellip;</th><th>max(StockOptionLevel) / std(Education) from Employee.csv</th><th>min(YearsInMostRecentRole) + max(YearsInMostRecentRole) from Employee.csv</th><th>min(YearsInMostRecentRole) - max(YearsInMostRecentRole) from Employee.csv</th><th>max(YearsInMostRecentRole) - min(YearsInMostRecentRole) from Employee.csv</th><th>min(YearsInMostRecentRole) * max(YearsInMostRecentRole) from Employee.csv</th><th>min(YearsInMostRecentRole) / max(YearsInMostRecentRole) from Employee.csv</th><th>max(YearsInMostRecentRole) / min(YearsInMostRecentRole) from Employee.csv</th><th>min(YearsInMostRecentRole) + std(YearsInMostRecentRole) from Employee.csv</th><th>min(YearsInMostRecentRole) - std(YearsInMostRecentRole) from Employee.csv</th><th>std(YearsInMostRecentRole) - min(YearsInMostRecentRole) from Employee.csv</th><th>min(YearsInMostRecentRole) * std(YearsInMostRecentRole) from Employee.csv</th><th>min(YearsInMostRecentRole) / std(YearsInMostRecentRole) from Employee.csv</th><th>std(YearsInMostRecentRole) / min(YearsInMostRecentRole) from Employee.csv</th><th>min(YearsInMostRecentRole) + max(StockOptionLevel) from Employee.csv</th><th>min(YearsInMostRecentRole) - max(StockOptionLevel) from Employee.csv</th><th>max(StockOptionLevel) - min(YearsInMostRecentRole) from Employee.csv</th><th>min(YearsInMostRecentRole) * max(StockOptionLevel) from Employee.csv</th><th>min(YearsInMostRecentRole) / max(StockOptionLevel) from Employee.csv</th><th>max(StockOptionLevel) / min(YearsInMostRecentRole) from Employee.csv</th><th>max(YearsInMostRecentRole) + std(YearsInMostRecentRole) from Employee.csv</th><th>max(YearsInMostRecentRole) - std(YearsInMostRecentRole) from Employee.csv</th><th>std(YearsInMostRecentRole) - max(YearsInMostRecentRole) from Employee.csv</th><th>max(YearsInMostRecentRole) * std(YearsInMostRecentRole) from Employee.csv</th><th>max(YearsInMostRecentRole) / std(YearsInMostRecentRole) from Employee.csv</th><th>std(YearsInMostRecentRole) / max(YearsInMostRecentRole) from Employee.csv</th><th>max(YearsInMostRecentRole) + max(StockOptionLevel) from Employee.csv</th><th>max(YearsInMostRecentRole) - max(StockOptionLevel) from Employee.csv</th><th>max(StockOptionLevel) - max(YearsInMostRecentRole) from Employee.csv</th><th>max(YearsInMostRecentRole) * max(StockOptionLevel) from Employee.csv</th><th>max(YearsInMostRecentRole) / max(StockOptionLevel) from Employee.csv</th><th>max(StockOptionLevel) / max(YearsInMostRecentRole) from Employee.csv</th><th>std(YearsInMostRecentRole) + max(StockOptionLevel) from Employee.csv</th><th>std(YearsInMostRecentRole) - max(StockOptionLevel) from Employee.csv</th><th>max(StockOptionLevel) - std(YearsInMostRecentRole) from Employee.csv</th><th>std(YearsInMostRecentRole) * max(StockOptionLevel) from Employee.csv</th><th>std(YearsInMostRecentRole) / max(StockOptionLevel) from Employee.csv</th><th>max(StockOptionLevel) / std(YearsInMostRecentRole) from Employee.csv</th></tr><tr><td>u32</td><td>i64</td><td>f64</td><td>f64</td><td>i64</td><td>f64</td><td>i64</td><td>f64</td><td>u32</td><td>i64</td><td>f64</td><td>f64</td><td>i64</td><td>f64</td><td>i64</td><td>f64</td><td>i64</td><td>f64</td><td>f64</td><td>i64</td><td>f64</td><td>i64</td><td>f64</td><td>i64</td><td>f64</td><td>f64</td><td>i64</td><td>f64</td><td>i64</td><td>f64</td><td>i64</td><td>f64</td><td>f64</td><td>i64</td><td>f64</td><td>i64</td><td>f64</td><td>&hellip;</td><td>f64</td><td>i64</td><td>i64</td><td>i64</td><td>i64</td><td>f64</td><td>f64</td><td>f64</td><td>f64</td><td>f64</td><td>f64</td><td>f64</td><td>f64</td><td>i64</td><td>i64</td><td>i64</td><td>i64</td><td>f64</td><td>f64</td><td>f64</td><td>f64</td><td>f64</td><td>f64</td><td>f64</td><td>f64</td><td>i64</td><td>i64</td><td>i64</td><td>i64</td><td>f64</td><td>f64</td><td>f64</td><td>f64</td><td>f64</td><td>f64</td><td>f64</td><td>f64</td></tr></thead><tbody><tr><td>5</td><td>5</td><td>3.0</td><td>3.0</td><td>1</td><td>1.581139</td><td>15</td><td>2.5</td><td>6709</td><td>5</td><td>3.414667</td><td>3.0</td><td>1</td><td>1.143961</td><td>22909</td><td>1.308646</td><td>5</td><td>3.430616</td><td>3.0</td><td>1</td><td>1.152565</td><td>23016</td><td>1.328407</td><td>5</td><td>3.872559</td><td>4.0</td><td>1</td><td>0.940701</td><td>25981</td><td>0.884919</td><td>5</td><td>3.427336</td><td>3.0</td><td>1</td><td>1.156753</td><td>22994</td><td>1.338078</td><td>&hellip;</td><td>2.929216</td><td>10</td><td>-10</td><td>10</td><td>0</td><td>0.0</td><td>inf</td><td>2.539093</td><td>-2.539093</td><td>2.539093</td><td>0.0</td><td>0.0</td><td>inf</td><td>3</td><td>-3</td><td>3</td><td>0</td><td>0.0</td><td>inf</td><td>12.539093</td><td>7.460907</td><td>-7.460907</td><td>25.390928</td><td>3.938414</td><td>0.253909</td><td>13</td><td>7</td><td>-7</td><td>30</td><td>3.333333</td><td>0.3</td><td>5.539093</td><td>-0.460907</td><td>0.460907</td><td>7.617279</td><td>0.846364</td><td>1.181524</td></tr><tr><td>5</td><td>5</td><td>3.0</td><td>3.0</td><td>1</td><td>1.581139</td><td>15</td><td>2.5</td><td>6709</td><td>5</td><td>3.414667</td><td>3.0</td><td>1</td><td>1.143961</td><td>22909</td><td>1.308646</td><td>5</td><td>3.430616</td><td>3.0</td><td>1</td><td>1.152565</td><td>23016</td><td>1.328407</td><td>5</td><td>3.872559</td><td>4.0</td><td>1</td><td>0.940701</td><td>25981</td><td>0.884919</td><td>5</td><td>3.427336</td><td>3.0</td><td>1</td><td>1.156753</td><td>22994</td><td>1.338078</td><td>&hellip;</td><td>2.929216</td><td>10</td><td>-10</td><td>10</td><td>0</td><td>0.0</td><td>inf</td><td>2.539093</td><td>-2.539093</td><td>2.539093</td><td>0.0</td><td>0.0</td><td>inf</td><td>3</td><td>-3</td><td>3</td><td>0</td><td>0.0</td><td>inf</td><td>12.539093</td><td>7.460907</td><td>-7.460907</td><td>25.390928</td><td>3.938414</td><td>0.253909</td><td>13</td><td>7</td><td>-7</td><td>30</td><td>3.333333</td><td>0.3</td><td>5.539093</td><td>-0.460907</td><td>0.460907</td><td>7.617279</td><td>0.846364</td><td>1.181524</td></tr></tbody></table></div>"
      ],
      "text/plain": [
       "shape: (2, 22_321)\n",
       "┌───────────┬───────────┬───────────┬───────────┬───┬───────────┬───────────┬───────────┬──────────┐\n",
       "│ count(*)  ┆ max(Ratin ┆ mean(Rati ┆ median(Ra ┆ … ┆ max(Stock ┆ std(Years ┆ std(Years ┆ max(Stoc │\n",
       "│ from Rati ┆ gID) from ┆ ngID)     ┆ tingID)   ┆   ┆ OptionLev ┆ InMostRec ┆ InMostRec ┆ kOptionL │\n",
       "│ ngLevel.c ┆ RatingLev ┆ from Rati ┆ from      ┆   ┆ el) -     ┆ entRole)  ┆ entRole)  ┆ evel) /  │\n",
       "│ sv        ┆ el…       ┆ ngLeve…   ┆ RatingLe… ┆   ┆ std(Ye…   ┆ * m…      ┆ / m…      ┆ std(Ye…  │\n",
       "│ ---       ┆ ---       ┆ ---       ┆ ---       ┆   ┆ ---       ┆ ---       ┆ ---       ┆ ---      │\n",
       "│ u32       ┆ i64       ┆ f64       ┆ f64       ┆   ┆ f64       ┆ f64       ┆ f64       ┆ f64      │\n",
       "╞═══════════╪═══════════╪═══════════╪═══════════╪═══╪═══════════╪═══════════╪═══════════╪══════════╡\n",
       "│ 5         ┆ 5         ┆ 3.0       ┆ 3.0       ┆ … ┆ 0.460907  ┆ 7.617279  ┆ 0.846364  ┆ 1.181524 │\n",
       "│ 5         ┆ 5         ┆ 3.0       ┆ 3.0       ┆ … ┆ 0.460907  ┆ 7.617279  ┆ 0.846364  ┆ 1.181524 │\n",
       "└───────────┴───────────┴───────────┴───────────┴───┴───────────┴───────────┴───────────┴──────────┘"
      ]
     },
     "execution_count": 5,
     "metadata": {},
     "output_type": "execute_result"
    }
   ],
   "source": [
    "features.collect()"
   ]
  },
  {
   "cell_type": "code",
   "execution_count": 24,
   "metadata": {},
   "outputs": [],
   "source": [
    "import numpy\n",
    "import sklearn.feature_selection\n",
    "import xgboost\n",
    "\n",
    "examples = [\n",
    "    (\n",
    "        Filter(eq={\"EmployeeID\": \"51A4-EA6E\"}),\n",
    "        True,\n",
    "    ),\n",
    "    (\n",
    "        Filter(eq={\"EmployeeID\": \"A4A4-F49C\"}),\n",
    "        False,\n",
    "    ),\n",
    "]\n",
    "\n",
    "features = (\n",
    "    derived_dataset\n",
    "    .features(filter for filter, _ in examples)\n",
    "    .collect()\n",
    ")\n",
    "\n",
    "selector = sklearn.feature_selection.SelectFromModel(\n",
    "    xgboost.XGBClassifier(missing=float(\"inf\")),\n",
    "    max_features=10,\n",
    ")\n",
    "\n",
    "selector.fit(\n",
    "    X=features.to_numpy(),\n",
    "    y=numpy.array([label for _, label in examples]),\n",
    ")\n",
    "\n",
    "selection = [\n",
    "    features.columns[i]\n",
    "    for i, selected in enumerate(selector.get_support())\n",
    "    if selected\n",
    "]"
   ]
  },
  {
   "cell_type": "code",
   "execution_count": 25,
   "metadata": {},
   "outputs": [
    {
     "data": {
      "text/plain": [
       "['count(*) from RatingLevel.csv',\n",
       " 'max(RatingID) from RatingLevel.csv',\n",
       " 'mean(RatingID) from RatingLevel.csv',\n",
       " 'median(RatingID) from RatingLevel.csv',\n",
       " 'min(RatingID) from RatingLevel.csv',\n",
       " 'std(RatingID) from RatingLevel.csv',\n",
       " 'sum(RatingID) from RatingLevel.csv',\n",
       " 'var(RatingID) from RatingLevel.csv',\n",
       " 'count(*) from PerformanceRating.csv',\n",
       " 'max(WorkLifeBalance) from PerformanceRating.csv']"
      ]
     },
     "execution_count": 25,
     "metadata": {},
     "output_type": "execute_result"
    }
   ],
   "source": [
    "selection\n"
   ]
  }
 ],
 "metadata": {
  "kernelspec": {
   "display_name": ".venv",
   "language": "python",
   "name": "python3"
  },
  "language_info": {
   "codemirror_mode": {
    "name": "ipython",
    "version": 3
   },
   "file_extension": ".py",
   "mimetype": "text/x-python",
   "name": "python",
   "nbconvert_exporter": "python",
   "pygments_lexer": "ipython3",
   "version": "3.12.6"
  }
 },
 "nbformat": 4,
 "nbformat_minor": 2
}
