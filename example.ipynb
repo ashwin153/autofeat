{
 "cells": [
  {
   "cell_type": "code",
   "execution_count": 1,
   "metadata": {},
   "outputs": [],
   "source": [
    "import polars\n",
    "\n",
    "from autofeat.dataset import *\n",
    "from autofeat.transform import *"
   ]
  },
  {
   "cell_type": "code",
   "execution_count": 2,
   "metadata": {},
   "outputs": [],
   "source": [
    "dataset = KaggleDataset(id=\"mahmoudemadabdallah/hr-analytics-employee-attrition-and-performance\")"
   ]
  },
  {
   "cell_type": "code",
   "execution_count": 3,
   "metadata": {},
   "outputs": [],
   "source": [
    "transform = (\n",
    "    Cast()\n",
    "    .then(Encode())\n",
    "    .then(Aggregate(by={\"EmployeeID\"}))\n",
    "    .then(Identity(), Join(on={\"EmployeeID\"}))\n",
    "    .then(Identity(), Combine())\n",
    ")"
   ]
  },
  {
   "cell_type": "code",
   "execution_count": 4,
   "metadata": {},
   "outputs": [],
   "source": [
    "filters = [\n",
    "    Filter(eq={\"EmployeeID\": \"51A4-EA6E\"}),\n",
    "    Filter(eq={\"EmployeeID\": \"A4A4-F49C\"}),\n",
    "]"
   ]
  },
  {
   "cell_type": "code",
   "execution_count": 5,
   "metadata": {},
   "outputs": [],
   "source": [
    "features = dataset.features(\n",
    "    filters=filters,\n",
    "    transform=transform,\n",
    ")"
   ]
  },
  {
   "cell_type": "code",
   "execution_count": 6,
   "metadata": {},
   "outputs": [
    {
     "data": {
      "text/html": [
       "<div><style>\n",
       ".dataframe > thead > tr,\n",
       ".dataframe > tbody > tr {\n",
       "  text-align: right;\n",
       "  white-space: pre-wrap;\n",
       "}\n",
       "</style>\n",
       "<small>shape: (2, 22_321)</small><table border=\"1\" class=\"dataframe\"><thead><tr><th>count(*) from RatingLevel.csv</th><th>max(RatingID) from RatingLevel.csv</th><th>mean(RatingID) from RatingLevel.csv</th><th>median(RatingID) from RatingLevel.csv</th><th>min(RatingID) from RatingLevel.csv</th><th>std(RatingID) from RatingLevel.csv</th><th>sum(RatingID) from RatingLevel.csv</th><th>var(RatingID) from RatingLevel.csv</th><th>count(*) from PerformanceRating.csv</th><th>max(RelationshipSatisfaction) from PerformanceRating.csv</th><th>mean(RelationshipSatisfaction) from PerformanceRating.csv</th><th>median(RelationshipSatisfaction) from PerformanceRating.csv</th><th>min(RelationshipSatisfaction) from PerformanceRating.csv</th><th>std(RelationshipSatisfaction) from PerformanceRating.csv</th><th>sum(RelationshipSatisfaction) from PerformanceRating.csv</th><th>var(RelationshipSatisfaction) from PerformanceRating.csv</th><th>max(ManagerRating) from PerformanceRating.csv</th><th>mean(ManagerRating) from PerformanceRating.csv</th><th>median(ManagerRating) from PerformanceRating.csv</th><th>min(ManagerRating) from PerformanceRating.csv</th><th>std(ManagerRating) from PerformanceRating.csv</th><th>sum(ManagerRating) from PerformanceRating.csv</th><th>var(ManagerRating) from PerformanceRating.csv</th><th>max(EnvironmentSatisfaction) from PerformanceRating.csv</th><th>mean(EnvironmentSatisfaction) from PerformanceRating.csv</th><th>median(EnvironmentSatisfaction) from PerformanceRating.csv</th><th>min(EnvironmentSatisfaction) from PerformanceRating.csv</th><th>std(EnvironmentSatisfaction) from PerformanceRating.csv</th><th>sum(EnvironmentSatisfaction) from PerformanceRating.csv</th><th>var(EnvironmentSatisfaction) from PerformanceRating.csv</th><th>max(SelfRating) from PerformanceRating.csv</th><th>mean(SelfRating) from PerformanceRating.csv</th><th>median(SelfRating) from PerformanceRating.csv</th><th>min(SelfRating) from PerformanceRating.csv</th><th>std(SelfRating) from PerformanceRating.csv</th><th>sum(SelfRating) from PerformanceRating.csv</th><th>var(SelfRating) from PerformanceRating.csv</th><th>&hellip;</th><th>min(YearsAtCompany) / median(StockOptionLevel) from Employee.csv</th><th>var(Age) + var(StockOptionLevel) from Employee.csv</th><th>var(Age) - var(StockOptionLevel) from Employee.csv</th><th>var(StockOptionLevel) - var(Age) from Employee.csv</th><th>var(Age) * var(StockOptionLevel) from Employee.csv</th><th>var(Age) / var(StockOptionLevel) from Employee.csv</th><th>var(StockOptionLevel) / var(Age) from Employee.csv</th><th>var(Age) + min(StockOptionLevel) from Employee.csv</th><th>var(Age) - min(StockOptionLevel) from Employee.csv</th><th>min(StockOptionLevel) - var(Age) from Employee.csv</th><th>var(Age) * min(StockOptionLevel) from Employee.csv</th><th>var(Age) / min(StockOptionLevel) from Employee.csv</th><th>min(StockOptionLevel) / var(Age) from Employee.csv</th><th>var(Age) + min(YearsAtCompany) from Employee.csv</th><th>var(Age) - min(YearsAtCompany) from Employee.csv</th><th>min(YearsAtCompany) - var(Age) from Employee.csv</th><th>var(Age) * min(YearsAtCompany) from Employee.csv</th><th>var(Age) / min(YearsAtCompany) from Employee.csv</th><th>min(YearsAtCompany) / var(Age) from Employee.csv</th><th>var(StockOptionLevel) + min(StockOptionLevel) from Employee.csv</th><th>var(StockOptionLevel) - min(StockOptionLevel) from Employee.csv</th><th>min(StockOptionLevel) - var(StockOptionLevel) from Employee.csv</th><th>var(StockOptionLevel) * min(StockOptionLevel) from Employee.csv</th><th>var(StockOptionLevel) / min(StockOptionLevel) from Employee.csv</th><th>min(StockOptionLevel) / var(StockOptionLevel) from Employee.csv</th><th>var(StockOptionLevel) + min(YearsAtCompany) from Employee.csv</th><th>var(StockOptionLevel) - min(YearsAtCompany) from Employee.csv</th><th>min(YearsAtCompany) - var(StockOptionLevel) from Employee.csv</th><th>var(StockOptionLevel) * min(YearsAtCompany) from Employee.csv</th><th>var(StockOptionLevel) / min(YearsAtCompany) from Employee.csv</th><th>min(YearsAtCompany) / var(StockOptionLevel) from Employee.csv</th><th>min(StockOptionLevel) + min(YearsAtCompany) from Employee.csv</th><th>min(StockOptionLevel) - min(YearsAtCompany) from Employee.csv</th><th>min(YearsAtCompany) - min(StockOptionLevel) from Employee.csv</th><th>min(StockOptionLevel) * min(YearsAtCompany) from Employee.csv</th><th>min(StockOptionLevel) / min(YearsAtCompany) from Employee.csv</th><th>min(YearsAtCompany) / min(StockOptionLevel) from Employee.csv</th></tr><tr><td>u32</td><td>i64</td><td>f64</td><td>f64</td><td>i64</td><td>f64</td><td>i64</td><td>f64</td><td>u32</td><td>i64</td><td>f64</td><td>f64</td><td>i64</td><td>f64</td><td>i64</td><td>f64</td><td>i64</td><td>f64</td><td>f64</td><td>i64</td><td>f64</td><td>i64</td><td>f64</td><td>i64</td><td>f64</td><td>f64</td><td>i64</td><td>f64</td><td>i64</td><td>f64</td><td>i64</td><td>f64</td><td>f64</td><td>i64</td><td>f64</td><td>i64</td><td>f64</td><td>&hellip;</td><td>f64</td><td>f64</td><td>f64</td><td>f64</td><td>f64</td><td>f64</td><td>f64</td><td>f64</td><td>f64</td><td>f64</td><td>f64</td><td>f64</td><td>f64</td><td>f64</td><td>f64</td><td>f64</td><td>f64</td><td>f64</td><td>f64</td><td>f64</td><td>f64</td><td>f64</td><td>f64</td><td>f64</td><td>f64</td><td>f64</td><td>f64</td><td>f64</td><td>f64</td><td>f64</td><td>f64</td><td>i64</td><td>i64</td><td>i64</td><td>i64</td><td>f64</td><td>f64</td></tr></thead><tbody><tr><td>5</td><td>5</td><td>3.0</td><td>3.0</td><td>1</td><td>1.581139</td><td>15</td><td>2.5</td><td>9</td><td>5</td><td>3.333333</td><td>3.0</td><td>2</td><td>1.414214</td><td>30</td><td>2.0</td><td>5</td><td>3.111111</td><td>3.0</td><td>2</td><td>1.054093</td><td>28</td><td>1.111111</td><td>5</td><td>4.222222</td><td>4.0</td><td>3</td><td>0.666667</td><td>38</td><td>0.444444</td><td>5</td><td>3.666667</td><td>4.0</td><td>3</td><td>0.707107</td><td>33</td><td>0.5</td><td>&hellip;</td><td>1.0</td><td>null</td><td>null</td><td>null</td><td>null</td><td>null</td><td>null</td><td>null</td><td>null</td><td>null</td><td>null</td><td>null</td><td>null</td><td>null</td><td>null</td><td>null</td><td>null</td><td>null</td><td>null</td><td>null</td><td>null</td><td>null</td><td>null</td><td>null</td><td>null</td><td>null</td><td>null</td><td>null</td><td>null</td><td>null</td><td>null</td><td>2</td><td>0</td><td>0</td><td>1</td><td>1.0</td><td>1.0</td></tr><tr><td>5</td><td>5</td><td>3.0</td><td>3.0</td><td>1</td><td>1.581139</td><td>15</td><td>2.5</td><td>8</td><td>4</td><td>3.125</td><td>3.5</td><td>2</td><td>0.991031</td><td>25</td><td>0.982143</td><td>4</td><td>3.25</td><td>3.0</td><td>2</td><td>0.707107</td><td>26</td><td>0.5</td><td>5</td><td>4.0</td><td>4.0</td><td>3</td><td>0.755929</td><td>32</td><td>0.571429</td><td>5</td><td>3.875</td><td>4.0</td><td>3</td><td>0.64087</td><td>31</td><td>0.410714</td><td>&hellip;</td><td>3.333333</td><td>null</td><td>null</td><td>null</td><td>null</td><td>null</td><td>null</td><td>null</td><td>null</td><td>null</td><td>null</td><td>null</td><td>null</td><td>null</td><td>null</td><td>null</td><td>null</td><td>null</td><td>null</td><td>null</td><td>null</td><td>null</td><td>null</td><td>null</td><td>null</td><td>null</td><td>null</td><td>null</td><td>null</td><td>null</td><td>null</td><td>13</td><td>-7</td><td>7</td><td>30</td><td>0.3</td><td>3.333333</td></tr></tbody></table></div>"
      ],
      "text/plain": [
       "shape: (2, 22_321)\n",
       "┌───────────┬───────────┬───────────┬───────────┬───┬───────────┬───────────┬───────────┬──────────┐\n",
       "│ count(*)  ┆ max(Ratin ┆ mean(Rati ┆ median(Ra ┆ … ┆ min(Years ┆ min(Stock ┆ min(Stock ┆ min(Year │\n",
       "│ from Rati ┆ gID) from ┆ ngID)     ┆ tingID)   ┆   ┆ AtCompany ┆ OptionLev ┆ OptionLev ┆ sAtCompa │\n",
       "│ ngLevel.c ┆ RatingLev ┆ from Rati ┆ from      ┆   ┆ ) -       ┆ el) *     ┆ el) /     ┆ ny) /    │\n",
       "│ sv        ┆ el…       ┆ ngLeve…   ┆ RatingLe… ┆   ┆ min(Stoc… ┆ min(Ye…   ┆ min(Ye…   ┆ min(Stoc │\n",
       "│ ---       ┆ ---       ┆ ---       ┆ ---       ┆   ┆ ---       ┆ ---       ┆ ---       ┆ …        │\n",
       "│ u32       ┆ i64       ┆ f64       ┆ f64       ┆   ┆ i64       ┆ i64       ┆ f64       ┆ ---      │\n",
       "│           ┆           ┆           ┆           ┆   ┆           ┆           ┆           ┆ f64      │\n",
       "╞═══════════╪═══════════╪═══════════╪═══════════╪═══╪═══════════╪═══════════╪═══════════╪══════════╡\n",
       "│ 5         ┆ 5         ┆ 3.0       ┆ 3.0       ┆ … ┆ 0         ┆ 1         ┆ 1.0       ┆ 1.0      │\n",
       "│ 5         ┆ 5         ┆ 3.0       ┆ 3.0       ┆ … ┆ 7         ┆ 30        ┆ 0.3       ┆ 3.333333 │\n",
       "└───────────┴───────────┴───────────┴───────────┴───┴───────────┴───────────┴───────────┴──────────┘"
      ]
     },
     "execution_count": 6,
     "metadata": {},
     "output_type": "execute_result"
    }
   ],
   "source": [
    "features.collect()"
   ]
  }
 ],
 "metadata": {
  "kernelspec": {
   "display_name": ".venv",
   "language": "python",
   "name": "python3"
  },
  "language_info": {
   "codemirror_mode": {
    "name": "ipython",
    "version": 3
   },
   "file_extension": ".py",
   "mimetype": "text/x-python",
   "name": "python",
   "nbconvert_exporter": "python",
   "pygments_lexer": "ipython3",
   "version": "3.12.5"
  }
 },
 "nbformat": 4,
 "nbformat_minor": 2
}
