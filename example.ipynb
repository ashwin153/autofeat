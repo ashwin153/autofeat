{
 "cells": [
  {
   "cell_type": "code",
   "execution_count": 7,
   "metadata": {},
   "outputs": [],
   "source": [
    "import polars\n",
    "\n",
    "from autofeat.dataset import *\n",
    "from autofeat.transform import *"
   ]
  },
  {
   "cell_type": "code",
   "execution_count": 8,
   "metadata": {},
   "outputs": [],
   "source": [
    "dataset = KaggleDataset(id=\"mahmoudemadabdallah/hr-analytics-employee-attrition-and-performance\")"
   ]
  },
  {
   "cell_type": "code",
   "execution_count": 9,
   "metadata": {},
   "outputs": [],
   "source": [
    "transform = (\n",
    "    Cast()\n",
    "    .then(Encode())\n",
    "    .then(Aggregate(by={\"EmployeeID\"}))\n",
    "    .then(Identity(), Join(on={\"EmployeeID\"}))\n",
    "    .then(Identity(), Combine())\n",
    ")"
   ]
  },
  {
   "cell_type": "code",
   "execution_count": 11,
   "metadata": {},
   "outputs": [],
   "source": [
    "features = dataset.features(\n",
    "    Filter(eq={\"EmployeeID\": \"51A4-EA6E\"}),\n",
    "    Filter(eq={\"EmployeeID\": \"A4A4-F49C\"}),\n",
    ")"
   ]
  },
  {
   "cell_type": "code",
   "execution_count": 12,
   "metadata": {},
   "outputs": [
    {
     "data": {
      "text/html": [
       "<div><style>\n",
       ".dataframe > thead > tr,\n",
       ".dataframe > tbody > tr {\n",
       "  text-align: right;\n",
       "  white-space: pre-wrap;\n",
       "}\n",
       "</style>\n",
       "<small>shape: (2, 22_321)</small><table border=\"1\" class=\"dataframe\"><thead><tr><th>count(*) from RatingLevel.csv</th><th>max(RatingID) from RatingLevel.csv</th><th>mean(RatingID) from RatingLevel.csv</th><th>median(RatingID) from RatingLevel.csv</th><th>min(RatingID) from RatingLevel.csv</th><th>std(RatingID) from RatingLevel.csv</th><th>sum(RatingID) from RatingLevel.csv</th><th>var(RatingID) from RatingLevel.csv</th><th>count(*) from PerformanceRating.csv</th><th>max(EnvironmentSatisfaction) from PerformanceRating.csv</th><th>mean(EnvironmentSatisfaction) from PerformanceRating.csv</th><th>median(EnvironmentSatisfaction) from PerformanceRating.csv</th><th>min(EnvironmentSatisfaction) from PerformanceRating.csv</th><th>std(EnvironmentSatisfaction) from PerformanceRating.csv</th><th>sum(EnvironmentSatisfaction) from PerformanceRating.csv</th><th>var(EnvironmentSatisfaction) from PerformanceRating.csv</th><th>max(ManagerRating) from PerformanceRating.csv</th><th>mean(ManagerRating) from PerformanceRating.csv</th><th>median(ManagerRating) from PerformanceRating.csv</th><th>min(ManagerRating) from PerformanceRating.csv</th><th>std(ManagerRating) from PerformanceRating.csv</th><th>sum(ManagerRating) from PerformanceRating.csv</th><th>var(ManagerRating) from PerformanceRating.csv</th><th>max(TrainingOpportunitiesTaken) from PerformanceRating.csv</th><th>mean(TrainingOpportunitiesTaken) from PerformanceRating.csv</th><th>median(TrainingOpportunitiesTaken) from PerformanceRating.csv</th><th>min(TrainingOpportunitiesTaken) from PerformanceRating.csv</th><th>std(TrainingOpportunitiesTaken) from PerformanceRating.csv</th><th>sum(TrainingOpportunitiesTaken) from PerformanceRating.csv</th><th>var(TrainingOpportunitiesTaken) from PerformanceRating.csv</th><th>max(WorkLifeBalance) from PerformanceRating.csv</th><th>mean(WorkLifeBalance) from PerformanceRating.csv</th><th>median(WorkLifeBalance) from PerformanceRating.csv</th><th>min(WorkLifeBalance) from PerformanceRating.csv</th><th>std(WorkLifeBalance) from PerformanceRating.csv</th><th>sum(WorkLifeBalance) from PerformanceRating.csv</th><th>var(WorkLifeBalance) from PerformanceRating.csv</th><th>&hellip;</th><th>sum(Age) / std(Education) from Employee.csv</th><th>mean(YearsInMostRecentRole) + mean(Education) from Employee.csv</th><th>mean(YearsInMostRecentRole) - mean(Education) from Employee.csv</th><th>mean(Education) - mean(YearsInMostRecentRole) from Employee.csv</th><th>mean(YearsInMostRecentRole) * mean(Education) from Employee.csv</th><th>mean(YearsInMostRecentRole) / mean(Education) from Employee.csv</th><th>mean(Education) / mean(YearsInMostRecentRole) from Employee.csv</th><th>mean(YearsInMostRecentRole) + median(YearsSinceLastPromotion) from Employee.csv</th><th>mean(YearsInMostRecentRole) - median(YearsSinceLastPromotion) from Employee.csv</th><th>median(YearsSinceLastPromotion) - mean(YearsInMostRecentRole) from Employee.csv</th><th>mean(YearsInMostRecentRole) * median(YearsSinceLastPromotion) from Employee.csv</th><th>mean(YearsInMostRecentRole) / median(YearsSinceLastPromotion) from Employee.csv</th><th>median(YearsSinceLastPromotion) / mean(YearsInMostRecentRole) from Employee.csv</th><th>mean(YearsInMostRecentRole) + sum(Age) from Employee.csv</th><th>mean(YearsInMostRecentRole) - sum(Age) from Employee.csv</th><th>sum(Age) - mean(YearsInMostRecentRole) from Employee.csv</th><th>mean(YearsInMostRecentRole) * sum(Age) from Employee.csv</th><th>mean(YearsInMostRecentRole) / sum(Age) from Employee.csv</th><th>sum(Age) / mean(YearsInMostRecentRole) from Employee.csv</th><th>mean(Education) + median(YearsSinceLastPromotion) from Employee.csv</th><th>mean(Education) - median(YearsSinceLastPromotion) from Employee.csv</th><th>median(YearsSinceLastPromotion) - mean(Education) from Employee.csv</th><th>mean(Education) * median(YearsSinceLastPromotion) from Employee.csv</th><th>mean(Education) / median(YearsSinceLastPromotion) from Employee.csv</th><th>median(YearsSinceLastPromotion) / mean(Education) from Employee.csv</th><th>mean(Education) + sum(Age) from Employee.csv</th><th>mean(Education) - sum(Age) from Employee.csv</th><th>sum(Age) - mean(Education) from Employee.csv</th><th>mean(Education) * sum(Age) from Employee.csv</th><th>mean(Education) / sum(Age) from Employee.csv</th><th>sum(Age) / mean(Education) from Employee.csv</th><th>median(YearsSinceLastPromotion) + sum(Age) from Employee.csv</th><th>median(YearsSinceLastPromotion) - sum(Age) from Employee.csv</th><th>sum(Age) - median(YearsSinceLastPromotion) from Employee.csv</th><th>median(YearsSinceLastPromotion) * sum(Age) from Employee.csv</th><th>median(YearsSinceLastPromotion) / sum(Age) from Employee.csv</th><th>sum(Age) / median(YearsSinceLastPromotion) from Employee.csv</th></tr><tr><td>u32</td><td>i64</td><td>f64</td><td>f64</td><td>i64</td><td>f64</td><td>i64</td><td>f64</td><td>u32</td><td>i64</td><td>f64</td><td>f64</td><td>i64</td><td>f64</td><td>i64</td><td>f64</td><td>i64</td><td>f64</td><td>f64</td><td>i64</td><td>f64</td><td>i64</td><td>f64</td><td>i64</td><td>f64</td><td>f64</td><td>i64</td><td>f64</td><td>i64</td><td>f64</td><td>i64</td><td>f64</td><td>f64</td><td>i64</td><td>f64</td><td>i64</td><td>f64</td><td>&hellip;</td><td>f64</td><td>f64</td><td>f64</td><td>f64</td><td>f64</td><td>f64</td><td>f64</td><td>f64</td><td>f64</td><td>f64</td><td>f64</td><td>f64</td><td>f64</td><td>f64</td><td>f64</td><td>f64</td><td>f64</td><td>f64</td><td>f64</td><td>f64</td><td>f64</td><td>f64</td><td>f64</td><td>f64</td><td>f64</td><td>f64</td><td>f64</td><td>f64</td><td>f64</td><td>f64</td><td>f64</td><td>f64</td><td>f64</td><td>f64</td><td>f64</td><td>f64</td><td>f64</td></tr></thead><tbody><tr><td>5</td><td>5</td><td>3.0</td><td>3.0</td><td>1</td><td>1.581139</td><td>15</td><td>2.5</td><td>9</td><td>5</td><td>4.222222</td><td>4.0</td><td>3</td><td>0.666667</td><td>38</td><td>0.444444</td><td>5</td><td>3.111111</td><td>3.0</td><td>2</td><td>1.054093</td><td>28</td><td>1.111111</td><td>2</td><td>0.555556</td><td>0.0</td><td>0</td><td>0.726483</td><td>5</td><td>0.527778</td><td>5</td><td>3.111111</td><td>3.0</td><td>2</td><td>1.054093</td><td>28</td><td>1.111111</td><td>&hellip;</td><td>null</td><td>3.0</td><td>-3.0</td><td>3.0</td><td>0.0</td><td>0.0</td><td>inf</td><td>0.0</td><td>0.0</td><td>0.0</td><td>0.0</td><td>NaN</td><td>NaN</td><td>46.0</td><td>-46.0</td><td>46.0</td><td>0.0</td><td>0.0</td><td>inf</td><td>3.0</td><td>3.0</td><td>-3.0</td><td>0.0</td><td>inf</td><td>0.0</td><td>49.0</td><td>-43.0</td><td>43.0</td><td>138.0</td><td>0.065217</td><td>15.333333</td><td>46.0</td><td>-46.0</td><td>46.0</td><td>0.0</td><td>0.0</td><td>inf</td></tr><tr><td>5</td><td>5</td><td>3.0</td><td>3.0</td><td>1</td><td>1.581139</td><td>15</td><td>2.5</td><td>8</td><td>5</td><td>4.0</td><td>4.0</td><td>3</td><td>0.755929</td><td>32</td><td>0.571429</td><td>4</td><td>3.25</td><td>3.0</td><td>2</td><td>0.707107</td><td>26</td><td>0.5</td><td>2</td><td>1.125</td><td>1.0</td><td>0</td><td>0.834523</td><td>9</td><td>0.696429</td><td>5</td><td>3.375</td><td>3.5</td><td>2</td><td>1.06066</td><td>27</td><td>1.125</td><td>&hellip;</td><td>null</td><td>13.0</td><td>7.0</td><td>-7.0</td><td>30.0</td><td>3.333333</td><td>0.3</td><td>20.0</td><td>0.0</td><td>0.0</td><td>100.0</td><td>1.0</td><td>1.0</td><td>44.0</td><td>-24.0</td><td>24.0</td><td>340.0</td><td>0.294118</td><td>3.4</td><td>13.0</td><td>-7.0</td><td>7.0</td><td>30.0</td><td>0.3</td><td>3.333333</td><td>37.0</td><td>-31.0</td><td>31.0</td><td>102.0</td><td>0.088235</td><td>11.333333</td><td>44.0</td><td>-24.0</td><td>24.0</td><td>340.0</td><td>0.294118</td><td>3.4</td></tr></tbody></table></div>"
      ],
      "text/plain": [
       "shape: (2, 22_321)\n",
       "┌───────────┬───────────┬───────────┬───────────┬───┬───────────┬───────────┬───────────┬──────────┐\n",
       "│ count(*)  ┆ max(Ratin ┆ mean(Rati ┆ median(Ra ┆ … ┆ sum(Age)  ┆ median(Ye ┆ median(Ye ┆ sum(Age) │\n",
       "│ from Rati ┆ gID) from ┆ ngID)     ┆ tingID)   ┆   ┆ - median( ┆ arsSinceL ┆ arsSinceL ┆ / median │\n",
       "│ ngLevel.c ┆ RatingLev ┆ from Rati ┆ from      ┆   ┆ YearsSinc ┆ astPromot ┆ astPromot ┆ (YearsSi │\n",
       "│ sv        ┆ el…       ┆ ngLeve…   ┆ RatingLe… ┆   ┆ eLa…      ┆ ion…      ┆ ion…      ┆ nceLa…   │\n",
       "│ ---       ┆ ---       ┆ ---       ┆ ---       ┆   ┆ ---       ┆ ---       ┆ ---       ┆ ---      │\n",
       "│ u32       ┆ i64       ┆ f64       ┆ f64       ┆   ┆ f64       ┆ f64       ┆ f64       ┆ f64      │\n",
       "╞═══════════╪═══════════╪═══════════╪═══════════╪═══╪═══════════╪═══════════╪═══════════╪══════════╡\n",
       "│ 5         ┆ 5         ┆ 3.0       ┆ 3.0       ┆ … ┆ 46.0      ┆ 0.0       ┆ 0.0       ┆ inf      │\n",
       "│ 5         ┆ 5         ┆ 3.0       ┆ 3.0       ┆ … ┆ 24.0      ┆ 340.0     ┆ 0.294118  ┆ 3.4      │\n",
       "└───────────┴───────────┴───────────┴───────────┴───┴───────────┴───────────┴───────────┴──────────┘"
      ]
     },
     "execution_count": 12,
     "metadata": {},
     "output_type": "execute_result"
    }
   ],
   "source": [
    "features.collect()"
   ]
  }
 ],
 "metadata": {
  "kernelspec": {
   "display_name": ".venv",
   "language": "python",
   "name": "python3"
  },
  "language_info": {
   "codemirror_mode": {
    "name": "ipython",
    "version": 3
   },
   "file_extension": ".py",
   "mimetype": "text/x-python",
   "name": "python",
   "nbconvert_exporter": "python",
   "pygments_lexer": "ipython3",
   "version": "3.12.5"
  }
 },
 "nbformat": 4,
 "nbformat_minor": 2
}
