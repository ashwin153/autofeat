{
 "cells": [
  {
   "cell_type": "code",
   "execution_count": 28,
   "metadata": {},
   "outputs": [],
   "source": [
    "import polars\n",
    "\n",
    "from autofeat.dataset import *\n",
    "from autofeat.transform import *"
   ]
  },
  {
   "cell_type": "code",
   "execution_count": 29,
   "metadata": {},
   "outputs": [],
   "source": [
    "datasets = [\n",
    "    KaggleDataset(id=\"abdullah0a/urban-air-quality-and-health-impact-dataset\"),\n",
    "]"
   ]
  },
  {
   "cell_type": "code",
   "execution_count": 30,
   "metadata": {},
   "outputs": [],
   "source": [
    "transform = (\n",
    "    Rename(mapping={\"datetime\": \"date\"})\n",
    "    .then(Cast())\n",
    "    .then(Aggregate(by={\"Season\", \"Day_of_Week\"}))\n",
    "    .then(Identity(), Combine())\n",
    ")"
   ]
  },
  {
   "cell_type": "code",
   "execution_count": 26,
   "metadata": {},
   "outputs": [],
   "source": [
    "features = polars.collect_all([\n",
    "    table.data\n",
    "    for dataset in datasets\n",
    "    for table in transform.apply(dataset.list_tables())\n",
    "])"
   ]
  },
  {
   "cell_type": "code",
   "execution_count": 27,
   "metadata": {},
   "outputs": [
    {
     "data": {
      "text/plain": [
       "[shape: (1, 325)\n",
       " ┌────────┬────────────┬────────────┬───────────┬───┬───────────┬───────────┬───────────┬───────────┐\n",
       " │ Season ┆ Day_of_Wee ┆ count(date ┆ null_coun ┆ … ┆ min(Healt ┆ std(Healt ┆ sum(Healt ┆ var(Healt │\n",
       " │ ---    ┆ k          ┆ )          ┆ t(date)   ┆   ┆ h_Risk_Sc ┆ h_Risk_Sc ┆ h_Risk_Sc ┆ h_Risk_Sc │\n",
       " │ date   ┆ ---        ┆ ---        ┆ ---       ┆   ┆ ore)      ┆ ore)      ┆ ore)      ┆ ore)      │\n",
       " │        ┆ date       ┆ u32        ┆ u32       ┆   ┆ ---       ┆ ---       ┆ ---       ┆ ---       │\n",
       " │        ┆            ┆            ┆           ┆   ┆ f64       ┆ f64       ┆ f64       ┆ f64       │\n",
       " ╞════════╪════════════╪════════════╪═══════════╪═══╪═══════════╪═══════════╪═══════════╪═══════════╡\n",
       " │ null   ┆ null       ┆ 1000       ┆ 0         ┆ … ┆ 8.492431  ┆ 0.679728  ┆ 9729.1029 ┆ 0.462031  │\n",
       " │        ┆            ┆            ┆           ┆   ┆           ┆           ┆ 1         ┆           │\n",
       " └────────┴────────────┴────────────┴───────────┴───┴───────────┴───────────┴───────────┴───────────┘,\n",
       " shape: (1, 312_018)\n",
       " ┌───────────┬───────────┬───────────┬───────────┬───┬───────────┬───────────┬───────────┬──────────┐\n",
       " │ count(dat ┆ count(dat ┆ null_coun ┆ count(dat ┆ … ┆ var(Healt ┆ sum(Healt ┆ sum(Healt ┆ var(Heal │\n",
       " │ e) + null ┆ e) - null ┆ t(date) - ┆ e) * null ┆   ┆ h_Risk_Sc ┆ h_Risk_Sc ┆ h_Risk_Sc ┆ th_Risk_ │\n",
       " │ _count(da ┆ _count(da ┆ count(dat ┆ _count(da ┆   ┆ ore) -    ┆ ore) *    ┆ ore) /    ┆ Score) / │\n",
       " │ te)       ┆ te)       ┆ e)        ┆ te)       ┆   ┆ sum(H…    ┆ var(H…    ┆ var(H…    ┆ sum(H…   │\n",
       " │ ---       ┆ ---       ┆ ---       ┆ ---       ┆   ┆ ---       ┆ ---       ┆ ---       ┆ ---      │\n",
       " │ u32       ┆ u32       ┆ u32       ┆ u32       ┆   ┆ f64       ┆ f64       ┆ f64       ┆ f64      │\n",
       " ╞═══════════╪═══════════╪═══════════╪═══════════╪═══╪═══════════╪═══════════╪═══════════╪══════════╡\n",
       " │ 1000      ┆ 1000      ┆ 429496629 ┆ 0         ┆ … ┆ -9728.640 ┆ 4495.1437 ┆ 21057.267 ┆ 0.000047 │\n",
       " │           ┆           ┆ 6         ┆           ┆   ┆ 879       ┆ 43        ┆ 32        ┆          │\n",
       " └───────────┴───────────┴───────────┴───────────┴───┴───────────┴───────────┴───────────┴──────────┘]"
      ]
     },
     "execution_count": 27,
     "metadata": {},
     "output_type": "execute_result"
    }
   ],
   "source": [
    "features"
   ]
  }
 ],
 "metadata": {
  "kernelspec": {
   "display_name": ".venv",
   "language": "python",
   "name": "python3"
  },
  "language_info": {
   "codemirror_mode": {
    "name": "ipython",
    "version": 3
   },
   "file_extension": ".py",
   "mimetype": "text/x-python",
   "name": "python",
   "nbconvert_exporter": "python",
   "pygments_lexer": "ipython3",
   "version": "3.12.5"
  }
 },
 "nbformat": 4,
 "nbformat_minor": 2
}
