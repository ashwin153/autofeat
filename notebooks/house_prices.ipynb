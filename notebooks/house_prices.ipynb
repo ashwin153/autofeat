{
 "cells": [
  {
   "cell_type": "code",
   "execution_count": 7,
   "metadata": {},
   "outputs": [],
   "source": [
    "import polars\n",
    "\n",
    "polars.enable_string_cache()"
   ]
  },
  {
   "cell_type": "code",
   "execution_count": 8,
   "metadata": {},
   "outputs": [],
   "source": [
    "from autofeat.dataset import KaggleDataset\n",
    "from autofeat.transform import Cast, Combine, Encode, Identity, Require, Select\n",
    "\n",
    "dataset = KaggleDataset(\n",
    "    name=\"house-prices-advanced-regression-techniques\",\n",
    ")\n",
    "\n",
    "transform = (\n",
    "    Require(lambda table: table.name == \"train.csv\")\n",
    "    .then(Select(exclude=[\"SalePrice\"]))\n",
    "    .then(Cast())\n",
    "    .then(Encode())\n",
    "    .then(Identity(), Combine())\n",
    ")\n",
    "\n",
    "filters = dataset.table(\"train.csv\").column(\"Id\")\n",
    "\n",
    "labels = dataset.table(\"train.csv\").column(\"SalePrice\")"
   ]
  },
  {
   "cell_type": "code",
   "execution_count": 9,
   "metadata": {},
   "outputs": [],
   "source": [
    "from autofeat.analysis import extract_features\n",
    "\n",
    "features = extract_features(\n",
    "    dataset.apply(transform),\n",
    "    filters,\n",
    ")"
   ]
  },
  {
   "cell_type": "code",
   "execution_count": 10,
   "metadata": {},
   "outputs": [],
   "source": [
    "df = features.collect()"
   ]
  },
  {
   "cell_type": "code",
   "execution_count": 17,
   "metadata": {},
   "outputs": [
    {
     "data": {
      "text/plain": [
       "['OverallQual from train.csv',\n",
       " 'TotalBsmtSF from train.csv',\n",
       " '2ndFlrSF from train.csv',\n",
       " 'GrLivArea from train.csv',\n",
       " 'KitchenAbvGr from train.csv',\n",
       " 'GarageCars from train.csv',\n",
       " 'MSZoning == RM from train.csv',\n",
       " 'BsmtQual == Ex from train.csv',\n",
       " 'CentralAir == Y from train.csv',\n",
       " 'GarageType == Detchd from train.csv']"
      ]
     },
     "execution_count": 17,
     "metadata": {},
     "output_type": "execute_result"
    }
   ],
   "source": [
    "import sklearn.feature_selection\n",
    "import xgboost\n",
    "\n",
    "selector = sklearn.feature_selection.SelectFromModel(\n",
    "    xgboost.XGBRegressor(missing=float(\"inf\")),\n",
    "    max_features=10,\n",
    ")\n",
    "\n",
    "selector.fit(\n",
    "    X=df.to_numpy(),\n",
    "    y=labels.data.collect().to_series().to_numpy(),\n",
    ")\n",
    "\n",
    "selection = [\n",
    "    df.columns[i]\n",
    "    for i, selected in enumerate(selector.get_support())\n",
    "    if selected\n",
    "]\n",
    "\n",
    "selection"
   ]
  }
 ],
 "metadata": {
  "kernelspec": {
   "display_name": ".venv",
   "language": "python",
   "name": "python3"
  },
  "language_info": {
   "codemirror_mode": {
    "name": "ipython",
    "version": 3
   },
   "file_extension": ".py",
   "mimetype": "text/x-python",
   "name": "python",
   "nbconvert_exporter": "python",
   "pygments_lexer": "ipython3",
   "version": "3.12.6"
  }
 },
 "nbformat": 4,
 "nbformat_minor": 2
}
