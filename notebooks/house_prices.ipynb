{
 "cells": [
  {
   "cell_type": "code",
   "execution_count": 1,
   "metadata": {},
   "outputs": [],
   "source": [
    "import polars\n",
    "\n",
    "polars.enable_string_cache()"
   ]
  },
  {
   "cell_type": "code",
   "execution_count": 2,
   "metadata": {},
   "outputs": [],
   "source": [
    "from autofeat import source\n",
    "\n",
    "dataset = source.from_kaggle(\n",
    "    name=\"house-prices-advanced-regression-techniques\",\n",
    ")\n"
   ]
  },
  {
   "cell_type": "code",
   "execution_count": 3,
   "metadata": {},
   "outputs": [],
   "source": [
    "given = (\n",
    "    dataset\n",
    "    .table(\"train.csv\")\n",
    "    .data\n",
    "    .select(\"Id\")\n",
    "    .collect()\n",
    ")\n",
    "\n",
    "target = (\n",
    "    dataset\n",
    "    .table(\"train.csv\")\n",
    "    .data\n",
    "    .select(\"SalePrice\")\n",
    "    .collect()\n",
    "    .to_series()\n",
    ")"
   ]
  },
  {
   "cell_type": "code",
   "execution_count": 4,
   "metadata": {},
   "outputs": [],
   "source": [
    "from autofeat.transform import Cast, Combine, Drop, Encode, Identity, Require\n",
    "\n",
    "transform = (\n",
    "    Require(lambda table: table.name == \"train.csv\")\n",
    "    .then(Drop(columns={\"SalePrice\"}))\n",
    "    .then(Cast())\n",
    "    .then(Identity(), Encode(), Combine())\n",
    ")\n",
    "\n",
    "features = dataset.apply(transform)"
   ]
  },
  {
   "cell_type": "code",
   "execution_count": 5,
   "metadata": {},
   "outputs": [],
   "source": [
    "df = features.extract(given=given)"
   ]
  },
  {
   "cell_type": "code",
   "execution_count": 7,
   "metadata": {},
   "outputs": [
    {
     "data": {
      "text/plain": [
       "['OverallQual from cast(train.csv)',\n",
       " 'GarageCars from cast(train.csv)',\n",
       " 'BsmtQual == Ex from encode(cast(train.csv))',\n",
       " 'CentralAir == N from encode(cast(train.csv))',\n",
       " 'KitchenQual == TA from encode(cast(train.csv))',\n",
       " 'BsmtFinSF1 * GrLivArea from combine(cast(train.csv))',\n",
       " 'TotalBsmtSF + GrLivArea from combine(cast(train.csv))',\n",
       " 'TotalBsmtSF * GrLivArea from combine(cast(train.csv))',\n",
       " '1stFlrSF * GrLivArea from combine(cast(train.csv))',\n",
       " 'GrLivArea + GarageArea from combine(cast(train.csv))']"
      ]
     },
     "execution_count": 7,
     "metadata": {},
     "output_type": "execute_result"
    }
   ],
   "source": [
    "import sklearn.feature_selection\n",
    "import xgboost\n",
    "\n",
    "selector = sklearn.feature_selection.SelectFromModel(\n",
    "    xgboost.XGBRegressor(missing=float(\"inf\")),\n",
    "    max_features=10,\n",
    ")\n",
    "\n",
    "selector.fit(\n",
    "    X=df.to_numpy(),\n",
    "    y=target.to_numpy(),\n",
    ")\n",
    "\n",
    "selection = [\n",
    "    df.columns[i]\n",
    "    for i, selected in enumerate(selector.get_support())\n",
    "    if selected\n",
    "]\n",
    "\n",
    "selection"
   ]
  }
 ],
 "metadata": {
  "kernelspec": {
   "display_name": ".venv",
   "language": "python",
   "name": "python3"
  },
  "language_info": {
   "codemirror_mode": {
    "name": "ipython",
    "version": 3
   },
   "file_extension": ".py",
   "mimetype": "text/x-python",
   "name": "python",
   "nbconvert_exporter": "python",
   "pygments_lexer": "ipython3",
   "version": "3.11.10"
  }
 },
 "nbformat": 4,
 "nbformat_minor": 2
}
