{
 "cells": [
  {
   "cell_type": "code",
   "execution_count": 1,
   "metadata": {},
   "outputs": [],
   "source": [
    "import polars\n",
    "\n",
    "polars.enable_string_cache()"
   ]
  },
  {
   "cell_type": "code",
   "execution_count": 2,
   "metadata": {},
   "outputs": [],
   "source": [
    "from autofeat import source\n",
    "\n",
    "dataset = source.from_kaggle(\n",
    "    name=\"house-prices-advanced-regression-techniques\",\n",
    ")"
   ]
  },
  {
   "cell_type": "code",
   "execution_count": 3,
   "metadata": {},
   "outputs": [],
   "source": [
    "from autofeat.transform import Cast, Combine, Encode, Identity, Require, Select\n",
    "\n",
    "transform = (\n",
    "    Require(lambda table: table.name == \"train.csv\")\n",
    "    .then(Select(exclude=[\"SalePrice\"]))\n",
    "    .then(Cast())\n",
    "    .then(Encode())\n",
    "    .then(Identity(), Combine())\n",
    ")"
   ]
  },
  {
   "cell_type": "code",
   "execution_count": 8,
   "metadata": {},
   "outputs": [],
   "source": [
    "filters = (\n",
    "    dataset.table(\"train.csv\")\n",
    "    .column(\"Id\")\n",
    ")\n",
    "\n",
    "target = (\n",
    "    dataset.table(\"train.csv\")\n",
    "    .column(\"SalePrice\")\n",
    ")"
   ]
  },
  {
   "cell_type": "code",
   "execution_count": 5,
   "metadata": {},
   "outputs": [],
   "source": [
    "features = dataset.features(\n",
    "    filters=filters,\n",
    "    transform=transform,\n",
    ")"
   ]
  },
  {
   "cell_type": "code",
   "execution_count": 6,
   "metadata": {},
   "outputs": [],
   "source": [
    "df = features.collect()"
   ]
  },
  {
   "cell_type": "code",
   "execution_count": 11,
   "metadata": {},
   "outputs": [
    {
     "data": {
      "text/plain": [
       "(1460, 4033)"
      ]
     },
     "execution_count": 11,
     "metadata": {},
     "output_type": "execute_result"
    }
   ],
   "source": [
    "df.shape"
   ]
  },
  {
   "cell_type": "code",
   "execution_count": 9,
   "metadata": {},
   "outputs": [
    {
     "data": {
      "text/plain": [
       "['OverallQual * GrLivArea from train.csv',\n",
       " 'OverallQual + BsmtFullBath from train.csv',\n",
       " 'OverallQual + FullBath from train.csv',\n",
       " 'OverallQual + GarageCars from train.csv',\n",
       " 'OverallQual * GarageCars from train.csv',\n",
       " 'YearRemodAdd - PoolArea from train.csv',\n",
       " 'TotalBsmtSF + GrLivArea from train.csv',\n",
       " 'TotalBsmtSF * GarageArea from train.csv',\n",
       " '1stFlrSF * GrLivArea from train.csv',\n",
       " '2ndFlrSF * HalfBath from train.csv']"
      ]
     },
     "execution_count": 9,
     "metadata": {},
     "output_type": "execute_result"
    }
   ],
   "source": [
    "import sklearn.feature_selection\n",
    "import xgboost\n",
    "\n",
    "selector = sklearn.feature_selection.SelectFromModel(\n",
    "    xgboost.XGBRegressor(missing=float(\"inf\")),\n",
    "    max_features=10,\n",
    ")\n",
    "\n",
    "selector.fit(\n",
    "    X=df.to_numpy(),\n",
    "    y=target.data.collect().to_series().to_numpy(),\n",
    ")\n",
    "\n",
    "selection = [\n",
    "    df.columns[i]\n",
    "    for i, selected in enumerate(selector.get_support())\n",
    "    if selected\n",
    "]\n",
    "\n",
    "selection"
   ]
  }
 ],
 "metadata": {
  "kernelspec": {
   "display_name": ".venv",
   "language": "python",
   "name": "python3"
  },
  "language_info": {
   "codemirror_mode": {
    "name": "ipython",
    "version": 3
   },
   "file_extension": ".py",
   "mimetype": "text/x-python",
   "name": "python",
   "nbconvert_exporter": "python",
   "pygments_lexer": "ipython3",
   "version": "3.12.6"
  }
 },
 "nbformat": 4,
 "nbformat_minor": 2
}
