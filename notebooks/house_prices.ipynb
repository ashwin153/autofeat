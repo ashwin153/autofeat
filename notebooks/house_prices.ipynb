{
 "cells": [
  {
   "cell_type": "code",
   "execution_count": 1,
   "metadata": {},
   "outputs": [],
   "source": [
    "import polars\n",
    "\n",
    "polars.enable_string_cache()"
   ]
  },
  {
   "cell_type": "code",
   "execution_count": 2,
   "metadata": {},
   "outputs": [],
   "source": [
    "from autofeat import source\n",
    "\n",
    "dataset = source.from_kaggle(\n",
    "    name=\"house-prices-advanced-regression-techniques\",\n",
    ")\n"
   ]
  },
  {
   "cell_type": "code",
   "execution_count": 3,
   "metadata": {},
   "outputs": [],
   "source": [
    "from autofeat.transform import Cast, Encode, Require, Select\n",
    "\n",
    "training_dataset = dataset.apply(\n",
    "    Require(lambda table: table.name == \"train.csv\")\n",
    "    .then(Select(exclude=[\"SalePrice\"]))\n",
    "    .then(Cast())\n",
    "    .then(Encode()),\n",
    ")"
   ]
  },
  {
   "cell_type": "code",
   "execution_count": 4,
   "metadata": {},
   "outputs": [],
   "source": [
    "filters = (\n",
    "    dataset.table(\"train.csv\")\n",
    "    .column(\"Id\")\n",
    ")\n",
    "\n",
    "target = (\n",
    "    dataset.table(\"train.csv\")\n",
    "    .column(\"SalePrice\")\n",
    ")"
   ]
  },
  {
   "cell_type": "code",
   "execution_count": 5,
   "metadata": {},
   "outputs": [],
   "source": [
    "features = training_dataset.features(filters=filters)"
   ]
  },
  {
   "cell_type": "code",
   "execution_count": 6,
   "metadata": {},
   "outputs": [],
   "source": [
    "df = features.collect()"
   ]
  },
  {
   "cell_type": "code",
   "execution_count": 7,
   "metadata": {},
   "outputs": [
    {
     "data": {
      "text/plain": [
       "(1460, 149)"
      ]
     },
     "execution_count": 7,
     "metadata": {},
     "output_type": "execute_result"
    }
   ],
   "source": [
    "df.shape"
   ]
  },
  {
   "cell_type": "code",
   "execution_count": 8,
   "metadata": {},
   "outputs": [
    {
     "data": {
      "text/plain": [
       "['OverallQual from train.csv',\n",
       " 'TotalBsmtSF from train.csv',\n",
       " '2ndFlrSF from train.csv',\n",
       " 'GrLivArea from train.csv',\n",
       " 'FullBath from train.csv',\n",
       " 'KitchenAbvGr from train.csv',\n",
       " 'GarageCars from train.csv',\n",
       " 'MSZoning == RL from train.csv',\n",
       " 'MSZoning == RM from train.csv',\n",
       " 'LandContour == Bnk from train.csv',\n",
       " 'ExterQual == TA from train.csv',\n",
       " 'BsmtQual == Ex from train.csv',\n",
       " 'CentralAir == Y from train.csv',\n",
       " 'KitchenQual == Gd from train.csv',\n",
       " 'KitchenQual == TA from train.csv',\n",
       " 'Functional == Typ from train.csv',\n",
       " 'GarageType == Detchd from train.csv',\n",
       " 'SaleType == WD from train.csv']"
      ]
     },
     "execution_count": 8,
     "metadata": {},
     "output_type": "execute_result"
    }
   ],
   "source": [
    "import sklearn.feature_selection\n",
    "import xgboost\n",
    "\n",
    "selector = sklearn.feature_selection.SelectFromModel(\n",
    "    xgboost.XGBRegressor(missing=float(\"inf\")),\n",
    "    max_features=None,\n",
    ")\n",
    "\n",
    "selector.fit(\n",
    "    X=df.to_numpy(),\n",
    "    y=target.data.collect().to_series().to_numpy(),\n",
    ")\n",
    "\n",
    "selection = [\n",
    "    df.columns[i]\n",
    "    for i, selected in enumerate(selector.get_support())\n",
    "    if selected\n",
    "]\n",
    "\n",
    "selection"
   ]
  }
 ],
 "metadata": {
  "kernelspec": {
   "display_name": ".venv",
   "language": "python",
   "name": "python3"
  },
  "language_info": {
   "codemirror_mode": {
    "name": "ipython",
    "version": 3
   },
   "file_extension": ".py",
   "mimetype": "text/x-python",
   "name": "python",
   "nbconvert_exporter": "python",
   "pygments_lexer": "ipython3",
   "version": "3.12.6"
  }
 },
 "nbformat": 4,
 "nbformat_minor": 2
}
