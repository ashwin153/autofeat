{
 "cells": [
  {
   "cell_type": "code",
   "execution_count": 7,
   "metadata": {},
   "outputs": [],
   "source": [
    "import polars\n",
    "\n",
    "polars.enable_string_cache()"
   ]
  },
  {
   "cell_type": "code",
   "execution_count": 8,
   "metadata": {},
   "outputs": [],
   "source": [
    "from autofeat.dataset import KaggleDataset\n",
    "\n",
    "dataset = KaggleDataset(\n",
    "    name=\"house-prices-advanced-regression-techniques\",\n",
    ")"
   ]
  },
  {
   "cell_type": "code",
   "execution_count": 9,
   "metadata": {},
   "outputs": [],
   "source": [
    "from autofeat.transform import Aggregate, Cast, Combine, Encode, Identity, Require\n",
    "\n",
    "inputs = dataset.derive(\n",
    "    Require(lambda table: table.name != \"test.csv\")\n",
    "    .then(Cast())\n",
    "    .then(Encode())\n",
    "    .then(Aggregate(by={\"Id\"}))\n",
    "    .then(Identity(), Combine()),\n",
    ")\n",
    "\n",
    "filters = dataset.table(\"train.csv\").column(\"Id\")\n",
    "\n",
    "labels = dataset.table(\"train.csv\").column(\"SalePrice\")"
   ]
  }
 ],
 "metadata": {
  "kernelspec": {
   "display_name": ".venv",
   "language": "python",
   "name": "python3"
  },
  "language_info": {
   "codemirror_mode": {
    "name": "ipython",
    "version": 3
   },
   "file_extension": ".py",
   "mimetype": "text/x-python",
   "name": "python",
   "nbconvert_exporter": "python",
   "pygments_lexer": "ipython3",
   "version": "3.12.6"
  }
 },
 "nbformat": 4,
 "nbformat_minor": 2
}
