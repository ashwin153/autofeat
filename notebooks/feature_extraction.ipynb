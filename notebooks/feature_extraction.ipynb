{
 "cells": [
  {
   "cell_type": "code",
   "execution_count": 1,
   "metadata": {},
   "outputs": [],
   "source": [
    "from autofeat.dataset import KaggleDataset\n",
    "\n",
    "source_dataset = KaggleDataset(\n",
    "    name=\"mahmoudemadabdallah/hr-analytics-employee-attrition-and-performance\",\n",
    ")"
   ]
  },
  {
   "cell_type": "code",
   "execution_count": 2,
   "metadata": {},
   "outputs": [],
   "source": [
    "from autofeat.transform import Aggregate, Cast, Combine, Encode, Identity, Join\n",
    "\n",
    "transform = (\n",
    "    Cast()\n",
    "    .then(Encode())\n",
    "    .then(Aggregate(by={\"EmployeeID\"}))\n",
    "    .then(Identity(), Join(on={\"EmployeeID\"}))\n",
    "    .then(Identity(), Combine())\n",
    ")"
   ]
  },
  {
   "cell_type": "code",
   "execution_count": 3,
   "metadata": {},
   "outputs": [],
   "source": [
    "derived_dataset = source_dataset.derive(transform)"
   ]
  },
  {
   "cell_type": "code",
   "execution_count": 4,
   "metadata": {},
   "outputs": [],
   "source": [
    "from autofeat.analysis import extract_features\n",
    "from autofeat.transform import Filter\n",
    "\n",
    "features = extract_features(\n",
    "    derived_dataset,\n",
    "    filters=[\n",
    "        Filter(eq={\"EmployeeID\": \"51A4-EA6E\"}),\n",
    "        Filter(eq={\"EmployeeID\": \"A4A4-F49C\"}),\n",
    "    ],\n",
    ")"
   ]
  },
  {
   "cell_type": "code",
   "execution_count": 5,
   "metadata": {},
   "outputs": [
    {
     "data": {
      "text/html": [
       "<div><style>\n",
       ".dataframe > thead > tr,\n",
       ".dataframe > tbody > tr {\n",
       "  text-align: right;\n",
       "  white-space: pre-wrap;\n",
       "}\n",
       "</style>\n",
       "<small>shape: (2, 66_002)</small><table border=\"1\" class=\"dataframe\"><thead><tr><th>count(*) from RatingLevel.csv</th><th>max(RatingID) from RatingLevel.csv</th><th>mean(RatingID) from RatingLevel.csv</th><th>median(RatingID) from RatingLevel.csv</th><th>min(RatingID) from RatingLevel.csv</th><th>std(RatingID) from RatingLevel.csv</th><th>sum(RatingID) from RatingLevel.csv</th><th>var(RatingID) from RatingLevel.csv</th><th>count(*) from PerformanceRating.csv</th><th>max(EnvironmentSatisfaction) from PerformanceRating.csv</th><th>mean(EnvironmentSatisfaction) from PerformanceRating.csv</th><th>median(EnvironmentSatisfaction) from PerformanceRating.csv</th><th>min(EnvironmentSatisfaction) from PerformanceRating.csv</th><th>std(EnvironmentSatisfaction) from PerformanceRating.csv</th><th>sum(EnvironmentSatisfaction) from PerformanceRating.csv</th><th>var(EnvironmentSatisfaction) from PerformanceRating.csv</th><th>max(JobSatisfaction) from PerformanceRating.csv</th><th>mean(JobSatisfaction) from PerformanceRating.csv</th><th>median(JobSatisfaction) from PerformanceRating.csv</th><th>min(JobSatisfaction) from PerformanceRating.csv</th><th>std(JobSatisfaction) from PerformanceRating.csv</th><th>sum(JobSatisfaction) from PerformanceRating.csv</th><th>var(JobSatisfaction) from PerformanceRating.csv</th><th>max(RelationshipSatisfaction) from PerformanceRating.csv</th><th>mean(RelationshipSatisfaction) from PerformanceRating.csv</th><th>median(RelationshipSatisfaction) from PerformanceRating.csv</th><th>min(RelationshipSatisfaction) from PerformanceRating.csv</th><th>std(RelationshipSatisfaction) from PerformanceRating.csv</th><th>sum(RelationshipSatisfaction) from PerformanceRating.csv</th><th>var(RelationshipSatisfaction) from PerformanceRating.csv</th><th>max(TrainingOpportunitiesWithinYear) from PerformanceRating.csv</th><th>mean(TrainingOpportunitiesWithinYear) from PerformanceRating.csv</th><th>median(TrainingOpportunitiesWithinYear) from PerformanceRating.csv</th><th>min(TrainingOpportunitiesWithinYear) from PerformanceRating.csv</th><th>std(TrainingOpportunitiesWithinYear) from PerformanceRating.csv</th><th>sum(TrainingOpportunitiesWithinYear) from PerformanceRating.csv</th><th>var(TrainingOpportunitiesWithinYear) from PerformanceRating.csv</th><th>&hellip;</th><th>var(YearsWithCurrManager) / median(YearsWithCurrManager) from PerformanceRating.csv outer Employee.csv</th><th>min(YearsWithCurrManager) + std(YearsWithCurrManager) from PerformanceRating.csv outer Employee.csv</th><th>min(YearsWithCurrManager) - std(YearsWithCurrManager) from PerformanceRating.csv outer Employee.csv</th><th>std(YearsWithCurrManager) - min(YearsWithCurrManager) from PerformanceRating.csv outer Employee.csv</th><th>min(YearsWithCurrManager) * std(YearsWithCurrManager) from PerformanceRating.csv outer Employee.csv</th><th>min(YearsWithCurrManager) / std(YearsWithCurrManager) from PerformanceRating.csv outer Employee.csv</th><th>std(YearsWithCurrManager) / min(YearsWithCurrManager) from PerformanceRating.csv outer Employee.csv</th><th>min(YearsWithCurrManager) + sum(YearsWithCurrManager) from PerformanceRating.csv outer Employee.csv</th><th>min(YearsWithCurrManager) - sum(YearsWithCurrManager) from PerformanceRating.csv outer Employee.csv</th><th>sum(YearsWithCurrManager) - min(YearsWithCurrManager) from PerformanceRating.csv outer Employee.csv</th><th>min(YearsWithCurrManager) * sum(YearsWithCurrManager) from PerformanceRating.csv outer Employee.csv</th><th>min(YearsWithCurrManager) / sum(YearsWithCurrManager) from PerformanceRating.csv outer Employee.csv</th><th>sum(YearsWithCurrManager) / min(YearsWithCurrManager) from PerformanceRating.csv outer Employee.csv</th><th>min(YearsWithCurrManager) + var(YearsWithCurrManager) from PerformanceRating.csv outer Employee.csv</th><th>min(YearsWithCurrManager) - var(YearsWithCurrManager) from PerformanceRating.csv outer Employee.csv</th><th>var(YearsWithCurrManager) - min(YearsWithCurrManager) from PerformanceRating.csv outer Employee.csv</th><th>min(YearsWithCurrManager) * var(YearsWithCurrManager) from PerformanceRating.csv outer Employee.csv</th><th>min(YearsWithCurrManager) / var(YearsWithCurrManager) from PerformanceRating.csv outer Employee.csv</th><th>var(YearsWithCurrManager) / min(YearsWithCurrManager) from PerformanceRating.csv outer Employee.csv</th><th>std(YearsWithCurrManager) + sum(YearsWithCurrManager) from PerformanceRating.csv outer Employee.csv</th><th>std(YearsWithCurrManager) - sum(YearsWithCurrManager) from PerformanceRating.csv outer Employee.csv</th><th>sum(YearsWithCurrManager) - std(YearsWithCurrManager) from PerformanceRating.csv outer Employee.csv</th><th>std(YearsWithCurrManager) * sum(YearsWithCurrManager) from PerformanceRating.csv outer Employee.csv</th><th>std(YearsWithCurrManager) / sum(YearsWithCurrManager) from PerformanceRating.csv outer Employee.csv</th><th>sum(YearsWithCurrManager) / std(YearsWithCurrManager) from PerformanceRating.csv outer Employee.csv</th><th>std(YearsWithCurrManager) + var(YearsWithCurrManager) from PerformanceRating.csv outer Employee.csv</th><th>std(YearsWithCurrManager) - var(YearsWithCurrManager) from PerformanceRating.csv outer Employee.csv</th><th>var(YearsWithCurrManager) - std(YearsWithCurrManager) from PerformanceRating.csv outer Employee.csv</th><th>std(YearsWithCurrManager) * var(YearsWithCurrManager) from PerformanceRating.csv outer Employee.csv</th><th>std(YearsWithCurrManager) / var(YearsWithCurrManager) from PerformanceRating.csv outer Employee.csv</th><th>var(YearsWithCurrManager) / std(YearsWithCurrManager) from PerformanceRating.csv outer Employee.csv</th><th>sum(YearsWithCurrManager) + var(YearsWithCurrManager) from PerformanceRating.csv outer Employee.csv</th><th>sum(YearsWithCurrManager) - var(YearsWithCurrManager) from PerformanceRating.csv outer Employee.csv</th><th>var(YearsWithCurrManager) - sum(YearsWithCurrManager) from PerformanceRating.csv outer Employee.csv</th><th>sum(YearsWithCurrManager) * var(YearsWithCurrManager) from PerformanceRating.csv outer Employee.csv</th><th>sum(YearsWithCurrManager) / var(YearsWithCurrManager) from PerformanceRating.csv outer Employee.csv</th><th>var(YearsWithCurrManager) / sum(YearsWithCurrManager) from PerformanceRating.csv outer Employee.csv</th></tr><tr><td>u32</td><td>i64</td><td>f64</td><td>f64</td><td>i64</td><td>f64</td><td>i64</td><td>f64</td><td>u32</td><td>i64</td><td>f64</td><td>f64</td><td>i64</td><td>f64</td><td>i64</td><td>f64</td><td>i64</td><td>f64</td><td>f64</td><td>i64</td><td>f64</td><td>i64</td><td>f64</td><td>i64</td><td>f64</td><td>f64</td><td>i64</td><td>f64</td><td>i64</td><td>f64</td><td>i64</td><td>f64</td><td>f64</td><td>i64</td><td>f64</td><td>i64</td><td>f64</td><td>&hellip;</td><td>f64</td><td>f64</td><td>f64</td><td>f64</td><td>f64</td><td>f64</td><td>f64</td><td>i64</td><td>i64</td><td>i64</td><td>i64</td><td>f64</td><td>f64</td><td>f64</td><td>f64</td><td>f64</td><td>f64</td><td>f64</td><td>f64</td><td>f64</td><td>f64</td><td>f64</td><td>f64</td><td>f64</td><td>f64</td><td>f64</td><td>f64</td><td>f64</td><td>f64</td><td>f64</td><td>f64</td><td>f64</td><td>f64</td><td>f64</td><td>f64</td><td>f64</td><td>f64</td></tr></thead><tbody><tr><td>5</td><td>5</td><td>3.0</td><td>3.0</td><td>1</td><td>1.581139</td><td>15</td><td>2.5</td><td>9</td><td>5</td><td>4.222222</td><td>4.0</td><td>3</td><td>0.666667</td><td>38</td><td>0.444444</td><td>5</td><td>3.555556</td><td>3.0</td><td>2</td><td>1.236033</td><td>32</td><td>1.527778</td><td>5</td><td>3.333333</td><td>3.0</td><td>2</td><td>1.414214</td><td>30</td><td>2.0</td><td>3</td><td>2.111111</td><td>2.0</td><td>1</td><td>0.781736</td><td>19</td><td>0.611111</td><td>&hellip;</td><td>null</td><td>null</td><td>null</td><td>null</td><td>null</td><td>null</td><td>null</td><td>null</td><td>null</td><td>null</td><td>null</td><td>null</td><td>null</td><td>null</td><td>null</td><td>null</td><td>null</td><td>null</td><td>null</td><td>null</td><td>null</td><td>null</td><td>null</td><td>null</td><td>null</td><td>null</td><td>null</td><td>null</td><td>null</td><td>null</td><td>null</td><td>null</td><td>null</td><td>null</td><td>null</td><td>null</td><td>null</td></tr><tr><td>5</td><td>5</td><td>3.0</td><td>3.0</td><td>1</td><td>1.581139</td><td>15</td><td>2.5</td><td>8</td><td>5</td><td>4.0</td><td>4.0</td><td>3</td><td>0.755929</td><td>32</td><td>0.571429</td><td>4</td><td>3.5</td><td>4.0</td><td>2</td><td>0.755929</td><td>28</td><td>0.571429</td><td>4</td><td>3.125</td><td>3.5</td><td>2</td><td>0.991031</td><td>25</td><td>0.982143</td><td>3</td><td>1.875</td><td>2.0</td><td>1</td><td>0.64087</td><td>15</td><td>0.410714</td><td>&hellip;</td><td>null</td><td>null</td><td>null</td><td>null</td><td>null</td><td>null</td><td>null</td><td>null</td><td>null</td><td>null</td><td>null</td><td>null</td><td>null</td><td>null</td><td>null</td><td>null</td><td>null</td><td>null</td><td>null</td><td>null</td><td>null</td><td>null</td><td>null</td><td>null</td><td>null</td><td>null</td><td>null</td><td>null</td><td>null</td><td>null</td><td>null</td><td>null</td><td>null</td><td>null</td><td>null</td><td>null</td><td>null</td></tr></tbody></table></div>"
      ],
      "text/plain": [
       "shape: (2, 66_002)\n",
       "┌───────────┬───────────┬───────────┬───────────┬───┬───────────┬───────────┬───────────┬──────────┐\n",
       "│ count(*)  ┆ max(Ratin ┆ mean(Rati ┆ median(Ra ┆ … ┆ var(Years ┆ sum(Years ┆ sum(Years ┆ var(Year │\n",
       "│ from Rati ┆ gID) from ┆ ngID)     ┆ tingID)   ┆   ┆ WithCurrM ┆ WithCurrM ┆ WithCurrM ┆ sWithCur │\n",
       "│ ngLevel.c ┆ RatingLev ┆ from Rati ┆ from      ┆   ┆ anager) - ┆ anager) * ┆ anager) / ┆ rManager │\n",
       "│ sv        ┆ el…       ┆ ngLeve…   ┆ RatingLe… ┆   ┆ su…       ┆ va…       ┆ va…       ┆ ) / su…  │\n",
       "│ ---       ┆ ---       ┆ ---       ┆ ---       ┆   ┆ ---       ┆ ---       ┆ ---       ┆ ---      │\n",
       "│ u32       ┆ i64       ┆ f64       ┆ f64       ┆   ┆ f64       ┆ f64       ┆ f64       ┆ f64      │\n",
       "╞═══════════╪═══════════╪═══════════╪═══════════╪═══╪═══════════╪═══════════╪═══════════╪══════════╡\n",
       "│ 5         ┆ 5         ┆ 3.0       ┆ 3.0       ┆ … ┆ null      ┆ null      ┆ null      ┆ null     │\n",
       "│ 5         ┆ 5         ┆ 3.0       ┆ 3.0       ┆ … ┆ null      ┆ null      ┆ null      ┆ null     │\n",
       "└───────────┴───────────┴───────────┴───────────┴───┴───────────┴───────────┴───────────┴──────────┘"
      ]
     },
     "execution_count": 5,
     "metadata": {},
     "output_type": "execute_result"
    }
   ],
   "source": [
    "features.collect()"
   ]
  }
 ],
 "metadata": {
  "kernelspec": {
   "display_name": ".venv",
   "language": "python",
   "name": "python3"
  },
  "language_info": {
   "codemirror_mode": {
    "name": "ipython",
    "version": 3
   },
   "file_extension": ".py",
   "mimetype": "text/x-python",
   "name": "python",
   "nbconvert_exporter": "python",
   "pygments_lexer": "ipython3",
   "version": "3.12.6"
  }
 },
 "nbformat": 4,
 "nbformat_minor": 2
}
