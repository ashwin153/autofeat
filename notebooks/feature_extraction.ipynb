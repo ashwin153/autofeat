{
 "cells": [
  {
   "cell_type": "code",
   "execution_count": 1,
   "metadata": {},
   "outputs": [],
   "source": [
    "from autofeat import source\n",
    "\n",
    "dataset = source.from_kaggle(\n",
    "    name=\"mahmoudemadabdallah/hr-analytics-employee-attrition-and-performance\",\n",
    ")"
   ]
  },
  {
   "cell_type": "code",
   "execution_count": 2,
   "metadata": {},
   "outputs": [],
   "source": [
    "from autofeat.transform import Aggregate, Cast, Combine, Encode, Identity, Join\n",
    "\n",
    "transform = (\n",
    "    Cast()\n",
    "    .then(Encode())\n",
    "    .then(Aggregate(by={\"EmployeeID\"}))\n",
    "    .then(Identity(), Join(on={\"EmployeeID\"}))\n",
    "    .then(Combine())\n",
    ")"
   ]
  },
  {
   "cell_type": "code",
   "execution_count": 3,
   "metadata": {},
   "outputs": [],
   "source": [
    "from autofeat.transform import Filter\n",
    "\n",
    "features = (\n",
    "    dataset\n",
    "    .apply(transform)\n",
    "    .features(Filter(eq={\"EmployeeID\": \"51A4-EA6E\"}))\n",
    "    .collect()\n",
    ")"
   ]
  },
  {
   "cell_type": "code",
   "execution_count": 4,
   "metadata": {},
   "outputs": [
    {
     "data": {
      "text/html": [
       "<div><style>\n",
       ".dataframe > thead > tr,\n",
       ".dataframe > tbody > tr {\n",
       "  text-align: right;\n",
       "  white-space: pre-wrap;\n",
       "}\n",
       "</style>\n",
       "<small>shape: (1, 66_002)</small><table border=\"1\" class=\"dataframe\"><thead><tr><th>count(*) from RatingLevel.csv</th><th>max(RatingID) from RatingLevel.csv</th><th>mean(RatingID) from RatingLevel.csv</th><th>median(RatingID) from RatingLevel.csv</th><th>min(RatingID) from RatingLevel.csv</th><th>std(RatingID) from RatingLevel.csv</th><th>sum(RatingID) from RatingLevel.csv</th><th>var(RatingID) from RatingLevel.csv</th><th>count(*) + max(RatingID) from RatingLevel.csv</th><th>count(*) - max(RatingID) from RatingLevel.csv</th><th>max(RatingID) - count(*) from RatingLevel.csv</th><th>count(*) * max(RatingID) from RatingLevel.csv</th><th>count(*) / max(RatingID) from RatingLevel.csv</th><th>max(RatingID) / count(*) from RatingLevel.csv</th><th>count(*) + mean(RatingID) from RatingLevel.csv</th><th>count(*) - mean(RatingID) from RatingLevel.csv</th><th>mean(RatingID) - count(*) from RatingLevel.csv</th><th>count(*) * mean(RatingID) from RatingLevel.csv</th><th>count(*) / mean(RatingID) from RatingLevel.csv</th><th>mean(RatingID) / count(*) from RatingLevel.csv</th><th>count(*) + median(RatingID) from RatingLevel.csv</th><th>count(*) - median(RatingID) from RatingLevel.csv</th><th>median(RatingID) - count(*) from RatingLevel.csv</th><th>count(*) * median(RatingID) from RatingLevel.csv</th><th>count(*) / median(RatingID) from RatingLevel.csv</th><th>median(RatingID) / count(*) from RatingLevel.csv</th><th>count(*) + min(RatingID) from RatingLevel.csv</th><th>count(*) - min(RatingID) from RatingLevel.csv</th><th>min(RatingID) - count(*) from RatingLevel.csv</th><th>count(*) * min(RatingID) from RatingLevel.csv</th><th>count(*) / min(RatingID) from RatingLevel.csv</th><th>min(RatingID) / count(*) from RatingLevel.csv</th><th>count(*) + std(RatingID) from RatingLevel.csv</th><th>count(*) - std(RatingID) from RatingLevel.csv</th><th>std(RatingID) - count(*) from RatingLevel.csv</th><th>count(*) * std(RatingID) from RatingLevel.csv</th><th>count(*) / std(RatingID) from RatingLevel.csv</th><th>&hellip;</th><th>var(YearsWithCurrManager) / median(YearsWithCurrManager) from PerformanceRating.csv outer Employee.csv</th><th>min(YearsWithCurrManager) + std(YearsWithCurrManager) from PerformanceRating.csv outer Employee.csv</th><th>min(YearsWithCurrManager) - std(YearsWithCurrManager) from PerformanceRating.csv outer Employee.csv</th><th>std(YearsWithCurrManager) - min(YearsWithCurrManager) from PerformanceRating.csv outer Employee.csv</th><th>min(YearsWithCurrManager) * std(YearsWithCurrManager) from PerformanceRating.csv outer Employee.csv</th><th>min(YearsWithCurrManager) / std(YearsWithCurrManager) from PerformanceRating.csv outer Employee.csv</th><th>std(YearsWithCurrManager) / min(YearsWithCurrManager) from PerformanceRating.csv outer Employee.csv</th><th>min(YearsWithCurrManager) + sum(YearsWithCurrManager) from PerformanceRating.csv outer Employee.csv</th><th>min(YearsWithCurrManager) - sum(YearsWithCurrManager) from PerformanceRating.csv outer Employee.csv</th><th>sum(YearsWithCurrManager) - min(YearsWithCurrManager) from PerformanceRating.csv outer Employee.csv</th><th>min(YearsWithCurrManager) * sum(YearsWithCurrManager) from PerformanceRating.csv outer Employee.csv</th><th>min(YearsWithCurrManager) / sum(YearsWithCurrManager) from PerformanceRating.csv outer Employee.csv</th><th>sum(YearsWithCurrManager) / min(YearsWithCurrManager) from PerformanceRating.csv outer Employee.csv</th><th>min(YearsWithCurrManager) + var(YearsWithCurrManager) from PerformanceRating.csv outer Employee.csv</th><th>min(YearsWithCurrManager) - var(YearsWithCurrManager) from PerformanceRating.csv outer Employee.csv</th><th>var(YearsWithCurrManager) - min(YearsWithCurrManager) from PerformanceRating.csv outer Employee.csv</th><th>min(YearsWithCurrManager) * var(YearsWithCurrManager) from PerformanceRating.csv outer Employee.csv</th><th>min(YearsWithCurrManager) / var(YearsWithCurrManager) from PerformanceRating.csv outer Employee.csv</th><th>var(YearsWithCurrManager) / min(YearsWithCurrManager) from PerformanceRating.csv outer Employee.csv</th><th>std(YearsWithCurrManager) + sum(YearsWithCurrManager) from PerformanceRating.csv outer Employee.csv</th><th>std(YearsWithCurrManager) - sum(YearsWithCurrManager) from PerformanceRating.csv outer Employee.csv</th><th>sum(YearsWithCurrManager) - std(YearsWithCurrManager) from PerformanceRating.csv outer Employee.csv</th><th>std(YearsWithCurrManager) * sum(YearsWithCurrManager) from PerformanceRating.csv outer Employee.csv</th><th>std(YearsWithCurrManager) / sum(YearsWithCurrManager) from PerformanceRating.csv outer Employee.csv</th><th>sum(YearsWithCurrManager) / std(YearsWithCurrManager) from PerformanceRating.csv outer Employee.csv</th><th>std(YearsWithCurrManager) + var(YearsWithCurrManager) from PerformanceRating.csv outer Employee.csv</th><th>std(YearsWithCurrManager) - var(YearsWithCurrManager) from PerformanceRating.csv outer Employee.csv</th><th>var(YearsWithCurrManager) - std(YearsWithCurrManager) from PerformanceRating.csv outer Employee.csv</th><th>std(YearsWithCurrManager) * var(YearsWithCurrManager) from PerformanceRating.csv outer Employee.csv</th><th>std(YearsWithCurrManager) / var(YearsWithCurrManager) from PerformanceRating.csv outer Employee.csv</th><th>var(YearsWithCurrManager) / std(YearsWithCurrManager) from PerformanceRating.csv outer Employee.csv</th><th>sum(YearsWithCurrManager) + var(YearsWithCurrManager) from PerformanceRating.csv outer Employee.csv</th><th>sum(YearsWithCurrManager) - var(YearsWithCurrManager) from PerformanceRating.csv outer Employee.csv</th><th>var(YearsWithCurrManager) - sum(YearsWithCurrManager) from PerformanceRating.csv outer Employee.csv</th><th>sum(YearsWithCurrManager) * var(YearsWithCurrManager) from PerformanceRating.csv outer Employee.csv</th><th>sum(YearsWithCurrManager) / var(YearsWithCurrManager) from PerformanceRating.csv outer Employee.csv</th><th>var(YearsWithCurrManager) / sum(YearsWithCurrManager) from PerformanceRating.csv outer Employee.csv</th></tr><tr><td>u32</td><td>i64</td><td>f64</td><td>f64</td><td>i64</td><td>f64</td><td>i64</td><td>f64</td><td>i64</td><td>i64</td><td>i64</td><td>i64</td><td>f64</td><td>f64</td><td>f64</td><td>f64</td><td>f64</td><td>f64</td><td>f64</td><td>f64</td><td>f64</td><td>f64</td><td>f64</td><td>f64</td><td>f64</td><td>f64</td><td>i64</td><td>i64</td><td>i64</td><td>i64</td><td>f64</td><td>f64</td><td>f64</td><td>f64</td><td>f64</td><td>f64</td><td>f64</td><td>&hellip;</td><td>f64</td><td>f64</td><td>f64</td><td>f64</td><td>f64</td><td>f64</td><td>f64</td><td>i64</td><td>i64</td><td>i64</td><td>i64</td><td>f64</td><td>f64</td><td>f64</td><td>f64</td><td>f64</td><td>f64</td><td>f64</td><td>f64</td><td>f64</td><td>f64</td><td>f64</td><td>f64</td><td>f64</td><td>f64</td><td>f64</td><td>f64</td><td>f64</td><td>f64</td><td>f64</td><td>f64</td><td>f64</td><td>f64</td><td>f64</td><td>f64</td><td>f64</td><td>f64</td></tr></thead><tbody><tr><td>5</td><td>5</td><td>3.0</td><td>3.0</td><td>1</td><td>1.581139</td><td>15</td><td>2.5</td><td>10</td><td>0</td><td>0</td><td>25</td><td>1.0</td><td>1.0</td><td>8.0</td><td>2.0</td><td>-2.0</td><td>15.0</td><td>1.666667</td><td>0.6</td><td>8.0</td><td>2.0</td><td>-2.0</td><td>15.0</td><td>1.666667</td><td>0.6</td><td>6</td><td>4</td><td>-4</td><td>5</td><td>5.0</td><td>0.2</td><td>6.581139</td><td>3.418861</td><td>-3.418861</td><td>7.905694</td><td>3.162278</td><td>&hellip;</td><td>null</td><td>null</td><td>null</td><td>null</td><td>null</td><td>null</td><td>null</td><td>0</td><td>0</td><td>0</td><td>0</td><td>NaN</td><td>NaN</td><td>null</td><td>null</td><td>null</td><td>null</td><td>null</td><td>null</td><td>null</td><td>null</td><td>null</td><td>null</td><td>null</td><td>null</td><td>null</td><td>null</td><td>null</td><td>null</td><td>null</td><td>null</td><td>null</td><td>null</td><td>null</td><td>null</td><td>null</td><td>null</td></tr></tbody></table></div>"
      ],
      "text/plain": [
       "shape: (1, 66_002)\n",
       "┌───────────┬───────────┬───────────┬───────────┬───┬───────────┬───────────┬───────────┬──────────┐\n",
       "│ count(*)  ┆ max(Ratin ┆ mean(Rati ┆ median(Ra ┆ … ┆ var(Years ┆ sum(Years ┆ sum(Years ┆ var(Year │\n",
       "│ from Rati ┆ gID) from ┆ ngID)     ┆ tingID)   ┆   ┆ WithCurrM ┆ WithCurrM ┆ WithCurrM ┆ sWithCur │\n",
       "│ ngLevel.c ┆ RatingLev ┆ from Rati ┆ from      ┆   ┆ anager) - ┆ anager) * ┆ anager) / ┆ rManager │\n",
       "│ sv        ┆ el…       ┆ ngLeve…   ┆ RatingLe… ┆   ┆ su…       ┆ va…       ┆ va…       ┆ ) / su…  │\n",
       "│ ---       ┆ ---       ┆ ---       ┆ ---       ┆   ┆ ---       ┆ ---       ┆ ---       ┆ ---      │\n",
       "│ u32       ┆ i64       ┆ f64       ┆ f64       ┆   ┆ f64       ┆ f64       ┆ f64       ┆ f64      │\n",
       "╞═══════════╪═══════════╪═══════════╪═══════════╪═══╪═══════════╪═══════════╪═══════════╪══════════╡\n",
       "│ 5         ┆ 5         ┆ 3.0       ┆ 3.0       ┆ … ┆ null      ┆ null      ┆ null      ┆ null     │\n",
       "└───────────┴───────────┴───────────┴───────────┴───┴───────────┴───────────┴───────────┴──────────┘"
      ]
     },
     "execution_count": 4,
     "metadata": {},
     "output_type": "execute_result"
    }
   ],
   "source": [
    "features"
   ]
  }
 ],
 "metadata": {
  "kernelspec": {
   "display_name": ".venv",
   "language": "python",
   "name": "python3"
  },
  "language_info": {
   "codemirror_mode": {
    "name": "ipython",
    "version": 3
   },
   "file_extension": ".py",
   "mimetype": "text/x-python",
   "name": "python",
   "nbconvert_exporter": "python",
   "pygments_lexer": "ipython3",
   "version": "3.12.6"
  }
 },
 "nbformat": 4,
 "nbformat_minor": 2
}
