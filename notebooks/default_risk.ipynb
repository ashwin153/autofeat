{
 "cells": [
  {
   "cell_type": "code",
   "execution_count": 1,
   "metadata": {},
   "outputs": [],
   "source": [
    "from autofeat import source\n",
    "\n",
    "dataset = source.from_kaggle(\n",
    "    name=\"home-credit-default-risk\",\n",
    ")"
   ]
  },
  {
   "cell_type": "code",
   "execution_count": 2,
   "metadata": {},
   "outputs": [
    {
     "ename": "",
     "evalue": "",
     "output_type": "error",
     "traceback": [
      "\u001b[1;31mThe Kernel crashed while executing code in the current cell or a previous cell. \n",
      "\u001b[1;31mPlease review the code in the cell(s) to identify a possible cause of the failure. \n",
      "\u001b[1;31mClick <a href='https://aka.ms/vscodeJupyterKernelCrash'>here</a> for more info. \n",
      "\u001b[1;31mView Jupyter <a href='command:jupyter.viewOutput'>log</a> for further details."
     ]
    }
   ],
   "source": [
    "where = (\n",
    "    dataset\n",
    "    .table(\"application_train.csv\")\n",
    "    .data\n",
    "    .select(\"SK_ID_CURR\")\n",
    "    .collect()\n",
    ")\n",
    "\n",
    "target = (\n",
    "    dataset\n",
    "    .table(\"application_train.csv\")\n",
    "    .data\n",
    "    .select(\"TARGET\")\n",
    "    .collect()\n",
    "    .to_series()\n",
    ")"
   ]
  },
  {
   "cell_type": "code",
   "execution_count": 3,
   "metadata": {},
   "outputs": [],
   "source": [
    "from autofeat.transform import Aggregate, Cast, Encode, Identity, Require, Select\n",
    "\n",
    "transform = (\n",
    "    Require(lambda table: table.name not in {\"application_test.csv\", \"sample_submission.csv\"})\n",
    "    .then(Select(exclude={\"TARGET\"}))\n",
    "    .then(Cast())\n",
    "    .then(Identity(), Encode())\n",
    "    .then(Identity(), Aggregate())\n",
    ")\n",
    "\n",
    "train = dataset.apply(transform)"
   ]
  },
  {
   "cell_type": "code",
   "execution_count": 5,
   "metadata": {},
   "outputs": [],
   "source": [
    "features = train.features(where=where)"
   ]
  },
  {
   "cell_type": "code",
   "execution_count": 6,
   "metadata": {},
   "outputs": [
    {
     "data": {
      "text/plain": [
       "['EXT_SOURCE_2 from cast(application_train.csv)',\n",
       " 'EXT_SOURCE_3 from cast(application_train.csv)',\n",
       " 'REGION_RATING_CLIENT_W_CITY from cast(application_train.csv)',\n",
       " 'FLAG_DOCUMENT_3 from cast(application_train.csv)',\n",
       " 'NAME_EDUCATION_TYPE == Higher education from encode(cast(application_train.csv))',\n",
       " 'CODE_GENDER == F from encode(cast(application_train.csv))',\n",
       " 'NAME_INCOME_TYPE == Working from encode(cast(application_train.csv))',\n",
       " 'CODE_GENDER == M from encode(cast(application_train.csv))',\n",
       " 'std(MONTHS_BALANCE) from group_by(cast(POS_CASH_balance.csv), SK_ID_CURR)',\n",
       " 'mean(CNT_DRAWINGS_ATM_CURRENT) from group_by(cast(credit_card_balance.csv), SK_ID_CURR)']"
      ]
     },
     "execution_count": 6,
     "metadata": {},
     "output_type": "execute_result"
    }
   ],
   "source": [
    "import sklearn.feature_selection\n",
    "import xgboost\n",
    "\n",
    "selector = sklearn.feature_selection.SelectFromModel(\n",
    "    xgboost.XGBRegressor(missing=float(\"inf\")),\n",
    "    max_features=10,\n",
    ")\n",
    "\n",
    "selector.fit(\n",
    "    X=features.to_numpy(),\n",
    "    y=target.to_numpy(),\n",
    ")\n",
    "\n",
    "selection = [\n",
    "    features.columns[i]\n",
    "    for i, selected in enumerate(selector.get_support())\n",
    "    if selected\n",
    "]\n",
    "\n",
    "selection"
   ]
  }
 ],
 "metadata": {
  "kernelspec": {
   "display_name": ".venv",
   "language": "python",
   "name": "python3"
  },
  "language_info": {
   "codemirror_mode": {
    "name": "ipython",
    "version": 3
   },
   "file_extension": ".py",
   "mimetype": "text/x-python",
   "name": "python",
   "nbconvert_exporter": "python",
   "pygments_lexer": "ipython3",
   "version": "3.11.10"
  }
 },
 "nbformat": 4,
 "nbformat_minor": 2
}
