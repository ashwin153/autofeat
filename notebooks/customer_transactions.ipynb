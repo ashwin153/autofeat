{
 "cells": [
  {
   "cell_type": "code",
   "execution_count": 8,
   "metadata": {},
   "outputs": [],
   "source": [
    "import polars\n",
    "\n",
    "polars.enable_string_cache()"
   ]
  },
  {
   "cell_type": "code",
   "execution_count": 9,
   "metadata": {},
   "outputs": [],
   "source": [
    "from autofeat import source\n",
    "\n",
    "dataset = source.from_kaggle(\n",
    "    name=\"santander-customer-transaction-prediction\",\n",
    ")\n"
   ]
  },
  {
   "cell_type": "code",
   "execution_count": 10,
   "metadata": {},
   "outputs": [],
   "source": [
    "from autofeat.transform import Cast, Encode, Require, Select\n",
    "\n",
    "transform = (\n",
    "    Require(lambda table: table.name == \"train.csv\")\n",
    "    .then(Select(exclude=[\"target\"]))\n",
    "    .then(Cast())\n",
    "    .then(Encode())\n",
    ")"
   ]
  },
  {
   "cell_type": "code",
   "execution_count": 11,
   "metadata": {},
   "outputs": [],
   "source": [
    "filters = (\n",
    "    dataset.table(\"train.csv\")\n",
    "    .column(\"ID_code\")\n",
    "    .data\n",
    "    .head(100)\n",
    ")\n",
    "\n",
    "target = (\n",
    "    dataset.table(\"train.csv\")\n",
    "    .column(\"target\")\n",
    "    .data\n",
    "    .head(100)\n",
    ")"
   ]
  },
  {
   "cell_type": "code",
   "execution_count": 12,
   "metadata": {},
   "outputs": [],
   "source": [
    "features = dataset.features(\n",
    "    filters=filters,\n",
    "    transform=transform,\n",
    ")"
   ]
  },
  {
   "cell_type": "code",
   "execution_count": 13,
   "metadata": {},
   "outputs": [],
   "source": [
    "df = features.collect()"
   ]
  },
  {
   "cell_type": "code",
   "execution_count": 15,
   "metadata": {},
   "outputs": [
    {
     "data": {
      "text/plain": [
       "(100, 200)"
      ]
     },
     "execution_count": 15,
     "metadata": {},
     "output_type": "execute_result"
    }
   ],
   "source": [
    "df.shape"
   ]
  },
  {
   "cell_type": "code",
   "execution_count": 14,
   "metadata": {},
   "outputs": [
    {
     "data": {
      "text/plain": [
       "['var_1 from train.csv',\n",
       " 'var_4 from train.csv',\n",
       " 'var_141 from train.csv',\n",
       " 'var_188 from train.csv']"
      ]
     },
     "execution_count": 14,
     "metadata": {},
     "output_type": "execute_result"
    }
   ],
   "source": [
    "import sklearn.feature_selection\n",
    "import xgboost\n",
    "\n",
    "selector = sklearn.feature_selection.SelectFromModel(\n",
    "    xgboost.XGBRegressor(missing=float(\"inf\")),\n",
    "    max_features=10,\n",
    ")\n",
    "\n",
    "selector.fit(\n",
    "    X=df.to_numpy(),\n",
    "    y=target.collect().to_series().to_numpy(),\n",
    ")\n",
    "\n",
    "selection = [\n",
    "    df.columns[i]\n",
    "    for i, selected in enumerate(selector.get_support())\n",
    "    if selected\n",
    "]\n",
    "\n",
    "selection"
   ]
  }
 ],
 "metadata": {
  "kernelspec": {
   "display_name": ".venv",
   "language": "python",
   "name": "python3"
  },
  "language_info": {
   "codemirror_mode": {
    "name": "ipython",
    "version": 3
   },
   "file_extension": ".py",
   "mimetype": "text/x-python",
   "name": "python",
   "nbconvert_exporter": "python",
   "pygments_lexer": "ipython3",
   "version": "3.12.6"
  }
 },
 "nbformat": 4,
 "nbformat_minor": 2
}
