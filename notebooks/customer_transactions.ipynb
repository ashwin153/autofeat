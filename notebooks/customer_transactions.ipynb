{
 "cells": [
  {
   "cell_type": "code",
   "execution_count": 1,
   "metadata": {},
   "outputs": [],
   "source": [
    "from autofeat import source\n",
    "\n",
    "dataset = source.from_kaggle(\n",
    "    name=\"santander-customer-transaction-prediction\",\n",
    ")\n"
   ]
  },
  {
   "cell_type": "code",
   "execution_count": 4,
   "metadata": {},
   "outputs": [],
   "source": [
    "where = (\n",
    "    dataset\n",
    "    .table(\"train.csv\")\n",
    "    .data\n",
    "    .select(\"ID_code\")\n",
    "    .collect()\n",
    ")\n",
    "\n",
    "target = (\n",
    "    dataset\n",
    "    .table(\"train.csv\")\n",
    "    .data\n",
    "    .select(\"target\")\n",
    "    .collect()\n",
    "    .to_series()\n",
    ")"
   ]
  },
  {
   "cell_type": "code",
   "execution_count": 2,
   "metadata": {},
   "outputs": [],
   "source": [
    "from autofeat.transform import Cast, Encode, Identity, Require, Select\n",
    "\n",
    "transform = (\n",
    "    Require(lambda table: table.name == \"train.csv\")\n",
    "    .then(Select(exclude={\"target\"}))\n",
    "    .then(Cast())\n",
    "    .then(Identity(), Encode())\n",
    ")\n",
    "\n",
    "train = dataset.apply(transform)"
   ]
  },
  {
   "cell_type": "code",
   "execution_count": 5,
   "metadata": {},
   "outputs": [],
   "source": [
    "features = train.features(where=where)"
   ]
  },
  {
   "cell_type": "code",
   "execution_count": 6,
   "metadata": {},
   "outputs": [
    {
     "data": {
      "text/plain": [
       "['var_53 from train.csv',\n",
       " 'var_81 from train.csv',\n",
       " 'var_6 from train.csv',\n",
       " 'var_109 from train.csv',\n",
       " 'var_174 from train.csv',\n",
       " 'var_146 from train.csv',\n",
       " 'var_80 from train.csv',\n",
       " 'var_12 from train.csv',\n",
       " 'var_110 from train.csv',\n",
       " 'var_139 from train.csv']"
      ]
     },
     "execution_count": 6,
     "metadata": {},
     "output_type": "execute_result"
    }
   ],
   "source": [
    "import sklearn.feature_selection\n",
    "import xgboost\n",
    "\n",
    "selector = sklearn.feature_selection.SelectFromModel(\n",
    "    xgboost.XGBRegressor(missing=float(\"inf\")),\n",
    "    max_features=10,\n",
    ")\n",
    "\n",
    "selector.fit(\n",
    "    X=features.to_numpy(),\n",
    "    y=target.to_numpy(),\n",
    ")\n",
    "\n",
    "selection = [\n",
    "    features.columns[i]\n",
    "    for i, selected in enumerate(selector.get_support())\n",
    "    if selected\n",
    "]\n",
    "\n",
    "selection"
   ]
  }
 ],
 "metadata": {
  "kernelspec": {
   "display_name": ".venv",
   "language": "python",
   "name": "python3"
  },
  "language_info": {
   "codemirror_mode": {
    "name": "ipython",
    "version": 3
   },
   "file_extension": ".py",
   "mimetype": "text/x-python",
   "name": "python",
   "nbconvert_exporter": "python",
   "pygments_lexer": "ipython3",
   "version": "3.11.10"
  }
 },
 "nbformat": 4,
 "nbformat_minor": 2
}
