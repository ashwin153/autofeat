{
 "cells": [
  {
   "cell_type": "code",
   "execution_count": 1,
   "metadata": {},
   "outputs": [],
   "source": [
    "import polars\n",
    "\n",
    "polars.enable_string_cache()"
   ]
  },
  {
   "cell_type": "code",
   "execution_count": 2,
   "metadata": {},
   "outputs": [],
   "source": [
    "from autofeat import source\n",
    "\n",
    "dataset = source.from_kaggle(\n",
    "    name=\"santander-customer-transaction-prediction\",\n",
    ")\n"
   ]
  },
  {
   "cell_type": "code",
   "execution_count": 3,
   "metadata": {},
   "outputs": [],
   "source": [
    "filters = (\n",
    "    dataset\n",
    "    .table(\"train.csv\")\n",
    "    .column(\"ID_code\")\n",
    "    .data\n",
    "    .head(1000)\n",
    ")\n",
    "\n",
    "target = (\n",
    "    dataset\n",
    "    .table(\"train.csv\")\n",
    "    .column(\"target\")\n",
    "    .data\n",
    "    .head(1000)\n",
    ")"
   ]
  },
  {
   "cell_type": "code",
   "execution_count": 4,
   "metadata": {},
   "outputs": [],
   "source": [
    "from autofeat.transform import Cast, Encode, Require, Select\n",
    "\n",
    "transform = (\n",
    "    Require(lambda table: table.name == \"train.csv\")\n",
    "    .then(Select(exclude={\"target\"}))\n",
    "    .then(Cast())\n",
    "    .then(Encode())\n",
    ")"
   ]
  },
  {
   "cell_type": "code",
   "execution_count": 5,
   "metadata": {},
   "outputs": [],
   "source": [
    "features = (\n",
    "    dataset\n",
    "    .apply(transform)\n",
    "    .features(filters)\n",
    "    .collect()\n",
    ")"
   ]
  },
  {
   "cell_type": "code",
   "execution_count": 6,
   "metadata": {},
   "outputs": [
    {
     "data": {
      "text/plain": [
       "['var_63 from train.csv',\n",
       " 'var_86 from train.csv',\n",
       " 'var_117 from train.csv',\n",
       " 'var_122 from train.csv',\n",
       " 'var_139 from train.csv',\n",
       " 'var_142 from train.csv',\n",
       " 'var_160 from train.csv',\n",
       " 'var_166 from train.csv',\n",
       " 'var_171 from train.csv',\n",
       " 'var_192 from train.csv']"
      ]
     },
     "execution_count": 6,
     "metadata": {},
     "output_type": "execute_result"
    }
   ],
   "source": [
    "import sklearn.feature_selection\n",
    "import xgboost\n",
    "\n",
    "selector = sklearn.feature_selection.SelectFromModel(\n",
    "    xgboost.XGBRegressor(missing=float(\"inf\")),\n",
    "    max_features=10,\n",
    ")\n",
    "\n",
    "selector.fit(\n",
    "    X=features.to_numpy(),\n",
    "    y=target.collect().to_series().to_numpy(),\n",
    ")\n",
    "\n",
    "selection = [\n",
    "    features.columns[i]\n",
    "    for i, selected in enumerate(selector.get_support())\n",
    "    if selected\n",
    "]\n",
    "\n",
    "selection"
   ]
  }
 ],
 "metadata": {
  "kernelspec": {
   "display_name": ".venv",
   "language": "python",
   "name": "python3"
  },
  "language_info": {
   "codemirror_mode": {
    "name": "ipython",
    "version": 3
   },
   "file_extension": ".py",
   "mimetype": "text/x-python",
   "name": "python",
   "nbconvert_exporter": "python",
   "pygments_lexer": "ipython3",
   "version": "3.12.6"
  }
 },
 "nbformat": 4,
 "nbformat_minor": 2
}
