{
 "cells": [
  {
   "cell_type": "code",
   "execution_count": 1,
   "metadata": {},
   "outputs": [],
   "source": [
    "from autofeat.dataset import *\n",
    "\n",
    "source_dataset = KaggleDataset(id=\"mahmoudemadabdallah/hr-analytics-employee-attrition-and-performance\")"
   ]
  },
  {
   "cell_type": "code",
   "execution_count": 2,
   "metadata": {},
   "outputs": [],
   "source": [
    "from autofeat.transform import *\n",
    "\n",
    "transform = (\n",
    "    Cast()\n",
    "    .then(Encode())\n",
    "    .then(Aggregate(by={\"EmployeeID\"}))\n",
    "    .then(Identity(), Join(on={\"EmployeeID\"}))\n",
    "    .then(Identity(), Combine())\n",
    ")"
   ]
  },
  {
   "cell_type": "code",
   "execution_count": 3,
   "metadata": {},
   "outputs": [],
   "source": [
    "derived_dataset = source_dataset.derive(transform)"
   ]
  },
  {
   "cell_type": "markdown",
   "metadata": {},
   "source": []
  },
  {
   "cell_type": "code",
   "execution_count": 4,
   "metadata": {},
   "outputs": [],
   "source": [
    "import numpy\n",
    "import sklearn.feature_selection\n",
    "import xgboost\n",
    "\n",
    "from autofeat.analysis import extract_features\n",
    "\n",
    "examples = [\n",
    "    (\n",
    "        Filter(eq={\"EmployeeID\": \"51A4-EA6E\"}),\n",
    "        True,\n",
    "    ),\n",
    "    (\n",
    "        Filter(eq={\"EmployeeID\": \"A4A4-F49C\"}),\n",
    "        False,\n",
    "    ),\n",
    "]\n",
    "\n",
    "features = extract_features(\n",
    "    derived_dataset, \n",
    "    [filter for filter, _ in examples],\n",
    ")\n",
    "\n",
    "df = features.collect()\n",
    "\n",
    "selector = sklearn.feature_selection.SelectFromModel(\n",
    "    xgboost.XGBClassifier(missing=float(\"inf\")),\n",
    "    max_features=10,\n",
    ")\n",
    "\n",
    "selector.fit(\n",
    "    X=df.to_numpy(),\n",
    "    y=numpy.array([label for _, label in examples]),\n",
    ")\n",
    "\n",
    "selection = [\n",
    "    df.columns[i]\n",
    "    for i, selected in enumerate(selector.get_support())\n",
    "    if selected\n",
    "]"
   ]
  },
  {
   "cell_type": "code",
   "execution_count": 5,
   "metadata": {},
   "outputs": [
    {
     "data": {
      "text/plain": [
       "['count(*) from RatingLevel.csv',\n",
       " 'max(RatingID) from RatingLevel.csv',\n",
       " 'mean(RatingID) from RatingLevel.csv',\n",
       " 'median(RatingID) from RatingLevel.csv',\n",
       " 'min(RatingID) from RatingLevel.csv',\n",
       " 'std(RatingID) from RatingLevel.csv',\n",
       " 'sum(RatingID) from RatingLevel.csv',\n",
       " 'var(RatingID) from RatingLevel.csv',\n",
       " 'count(*) from PerformanceRating.csv',\n",
       " 'max(EnvironmentSatisfaction) from PerformanceRating.csv']"
      ]
     },
     "execution_count": 5,
     "metadata": {},
     "output_type": "execute_result"
    }
   ],
   "source": [
    "selection\n"
   ]
  }
 ],
 "metadata": {
  "kernelspec": {
   "display_name": ".venv",
   "language": "python",
   "name": "python3"
  },
  "language_info": {
   "codemirror_mode": {
    "name": "ipython",
    "version": 3
   },
   "file_extension": ".py",
   "mimetype": "text/x-python",
   "name": "python",
   "nbconvert_exporter": "python",
   "pygments_lexer": "ipython3",
   "version": "3.12.6"
  }
 },
 "nbformat": 4,
 "nbformat_minor": 2
}
